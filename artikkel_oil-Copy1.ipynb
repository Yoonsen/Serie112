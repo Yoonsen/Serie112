{
 "cells": [
  {
   "cell_type": "code",
   "execution_count": 1,
   "id": "9cfacde6-88ce-4b10-bd5c-f3cdca52e08e",
   "metadata": {},
   "outputs": [],
   "source": [
    "import dhlab as dh\n",
    "import dhlab.api.dhlab_api as api\n",
    "import pandas as pd"
   ]
  },
  {
   "cell_type": "code",
   "execution_count": 140,
   "id": "b9fc5b97-998c-412c-9e19-0776f6728328",
   "metadata": {},
   "outputs": [],
   "source": [
    "tot = api.totals(500000)"
   ]
  },
  {
   "cell_type": "code",
   "execution_count": 163,
   "id": "b5118f77-41c8-4a03-a7a7-101cc9286c4b",
   "metadata": {},
   "outputs": [],
   "source": [
    "def coll_periods(doc=None, fy=1900, ty = 2020, period = 10, word=None, before=10, after=10, corpus_size=5000):\n",
    "    colls_raw = []\n",
    "    for year in range(fy, ty, period):\n",
    "        try:\n",
    "            coll = api.urn_collocation(\n",
    "                urns = list(dh.Corpus(doctype=doc, fulltext = word, from_year= year, to_year = year + period, limit = corpus_size).frame.urn),\n",
    "                word = word,\n",
    "                before = before, \n",
    "                after = after,         \n",
    "            )\n",
    "            coll[str(year)]= coll['counts']\n",
    "            #colls_raw.append(coll[[str(year)]])\n",
    "            colls_raw.append(coll[[str(year)]])\n",
    "        except:\n",
    "            print(f\"feil med {year}\")\n",
    "\n",
    "    colls = pd.concat(colls_raw, axis=1)\n",
    "    return colls"
   ]
  },
  {
   "cell_type": "code",
   "execution_count": 125,
   "id": "eb328124-16fb-4ba1-aa9e-28d34dace853",
   "metadata": {},
   "outputs": [],
   "source": [
    "class Colls():\n",
    "    def __init__(self, doctype=None, from_year=1900, to_year=2024, period=10, word=None, before=10, after=10, corpus_size=5000):\n",
    "        self.colls = coll_periods(doc=doctype, fy=from_year, ty=to_year, period=period, word=word, corpus_size=corpus_size)\n",
    "        self.relative = self.colls / self.colls.sum()\n",
    "        \n",
    "    def make_assoc(self, comparison):\n",
    "        \"\"\"combine colls table with frequency list from comparison assumed to be a pd.Series\"\"\"\n",
    "        colls_raw = []\n",
    "        comp_rel = comparison / comparison.sum()\n",
    "        for year in self.colls:\n",
    "            nomin = self.colls[year] / self.colls[year].sum()\n",
    "            column = pd.Series(nomin / comp_rel, name=year)\n",
    "            colls_raw.append(column)\n",
    "        self.assoc = pd.concat(colls_raw, axis=1)\n",
    "\n",
    "    def show_data(self, attribute, subset=None, sortby=None, head=50):\n",
    "        df = getattr(self, attribute)\n",
    "        if subset is None:\n",
    "            data = df\n",
    "        else:\n",
    "            data = df.loc[[x for x in subset if x in df.index]]\n",
    "            \n",
    "        if not sortby:\n",
    "            sortby = data.columns[0]\n",
    "        elif sortby not in data.columns and isinstance(sortby, int):\n",
    "            # assume sortby is an integer pointing to column number\n",
    "            sortby = data.columns[sortby]\n",
    "        \n",
    "        sorted_data = data.sort_values(by=sortby, ascending=False)\n",
    "        if head is None:\n",
    "            return sorted_data\n",
    "        else:\n",
    "            return sorted_data.head(head)\n",
    "\n",
    "    def show_assoc(self, sortby=None, subset=None, head=50):\n",
    "        return self.show_data('assoc', subset, sortby, head)\n",
    "\n",
    "    def show_coll_counts(self, sortby=None, subset=None, head=50):\n",
    "        return self.show_data('colls', subset, sortby, head)\n",
    "\n",
    "    def show_coll_relative(self, sortby=None, subset=None, head=50, multiplier=100):\n",
    "        \"\"\"multiplier for percent or ppm (parts per million)\"\"\"\n",
    "        return self.show_data('relative', subset, sortby, head) * multiplier\n"
   ]
  },
  {
   "cell_type": "code",
   "execution_count": 161,
   "id": "66c84b49-8fe7-4e58-9a89-a65ddded9be5",
   "metadata": {},
   "outputs": [
    {
     "name": "stdout",
     "output_type": "stream",
     "text": [
      "1970\n",
      "1985\n",
      "2000\n",
      "2015\n"
     ]
    }
   ],
   "source": [
    "olje = Colls(doctype=\"digavis\", from_year=1970, to_year=2020, period=15, word=\"oljeutvinning\", corpus_size=5000)"
   ]
  },
  {
   "cell_type": "code",
   "execution_count": 251,
   "id": "4272c260-090e-4067-83e3-78845456561d",
   "metadata": {},
   "outputs": [],
   "source": [
    "pollution = Colls(doctype=\"digavis\", from_year=1970, to_year=2020, period=15, word=\"forurensing\", corpus_size=5000)"
   ]
  },
  {
   "cell_type": "code",
   "execution_count": 258,
   "id": "2f5e71ce-87f4-4574-a93b-d21c57af8d07",
   "metadata": {},
   "outputs": [],
   "source": [
    "pollution2 = Colls(doctype=\"digavis\", from_year=1970, to_year=2020, period=15, word=\"forurensning\", corpus_size=5000)"
   ]
  },
  {
   "cell_type": "code",
   "execution_count": 245,
   "id": "5d704a3a-4252-462b-8605-d646d08052ba",
   "metadata": {},
   "outputs": [
    {
     "name": "stdout",
     "output_type": "stream",
     "text": [
      "feil med 1970\n",
      "feil med 1985\n",
      "feil med 2000\n"
     ]
    }
   ],
   "source": [
    "pure_oil = Colls(doctype=\"digavis\", from_year=1970, to_year=2020, period=15, word=\"olje\", corpus_size=5000)"
   ]
  },
  {
   "cell_type": "code",
   "execution_count": 248,
   "id": "2b56a66f-5ddc-4fc0-8f4e-33bde37c2e56",
   "metadata": {},
   "outputs": [],
   "source": [
    "pure_oil_def = Colls(doctype=\"digavis\", from_year=1970, to_year=2020, period=15, word=\"oljen\", corpus_size=5000)"
   ]
  },
  {
   "cell_type": "code",
   "execution_count": 164,
   "id": "7686cb4f-a209-4440-81e2-8220af6ebf3a",
   "metadata": {},
   "outputs": [
    {
     "name": "stdout",
     "output_type": "stream",
     "text": [
      "feil med 1970\n"
     ]
    }
   ],
   "source": [
    "klimagass = Colls(doctype=\"digavis\", from_year=1970, to_year=2020, period=15, word=\"klimagasser\", corpus_size=5000)"
   ]
  },
  {
   "cell_type": "code",
   "execution_count": 166,
   "id": "842db83c-1dc8-449a-9ed5-a15739927cca",
   "metadata": {},
   "outputs": [],
   "source": [
    "olje.make_assoc(comparison=tot.freq)"
   ]
  },
  {
   "cell_type": "code",
   "execution_count": 165,
   "id": "13fb3083-2cf4-44ff-90cf-e27ae42e19c3",
   "metadata": {},
   "outputs": [],
   "source": [
    "klimagass.make_assoc(comparison=tot.freq)"
   ]
  },
  {
   "cell_type": "code",
   "execution_count": 252,
   "id": "37809f48-12f0-4eb7-bf64-8ba0f07bd783",
   "metadata": {},
   "outputs": [],
   "source": [
    "pollution.make_assoc(comparison=tot.freq)"
   ]
  },
  {
   "cell_type": "code",
   "execution_count": 259,
   "id": "ae86f068-1131-40f0-9380-f0a2da0df374",
   "metadata": {},
   "outputs": [],
   "source": [
    "pollution2.make_assoc(comparison=tot.freq)"
   ]
  },
  {
   "cell_type": "code",
   "execution_count": 249,
   "id": "db110c26-e501-4ada-9d75-ae573380eb03",
   "metadata": {},
   "outputs": [],
   "source": [
    "pure_oil_def.make_assoc(comparison=tot.freq)"
   ]
  },
  {
   "cell_type": "code",
   "execution_count": 167,
   "id": "4331d581-5e22-444c-9b22-c2017cfc9889",
   "metadata": {},
   "outputs": [
    {
     "data": {
      "text/html": [
       "<div>\n",
       "<style scoped>\n",
       "    .dataframe tbody tr th:only-of-type {\n",
       "        vertical-align: middle;\n",
       "    }\n",
       "\n",
       "    .dataframe tbody tr th {\n",
       "        vertical-align: top;\n",
       "    }\n",
       "\n",
       "    .dataframe thead th {\n",
       "        text-align: right;\n",
       "    }\n",
       "</style>\n",
       "<table border=\"1\" class=\"dataframe\">\n",
       "  <thead>\n",
       "    <tr style=\"text-align: right;\">\n",
       "      <th></th>\n",
       "      <th>1970</th>\n",
       "      <th>1985</th>\n",
       "      <th>2000</th>\n",
       "      <th>2015</th>\n",
       "    </tr>\n",
       "  </thead>\n",
       "  <tbody>\n",
       "    <tr>\n",
       "      <th>dokumentasjonssenter</th>\n",
       "      <td>NaN</td>\n",
       "      <td>5635.687881</td>\n",
       "      <td>NaN</td>\n",
       "      <td>NaN</td>\n",
       "    </tr>\n",
       "    <tr>\n",
       "      <th>bergverksdrift</th>\n",
       "      <td>3413.380000</td>\n",
       "      <td>5269.498509</td>\n",
       "      <td>33.468427</td>\n",
       "      <td>19.007288</td>\n",
       "    </tr>\n",
       "    <tr>\n",
       "      <th>opplevelses-</th>\n",
       "      <td>NaN</td>\n",
       "      <td>4946.755484</td>\n",
       "      <td>NaN</td>\n",
       "      <td>NaN</td>\n",
       "    </tr>\n",
       "    <tr>\n",
       "      <th>dykkernes</th>\n",
       "      <td>NaN</td>\n",
       "      <td>3606.777381</td>\n",
       "      <td>NaN</td>\n",
       "      <td>NaN</td>\n",
       "    </tr>\n",
       "    <tr>\n",
       "      <th>emiratene</th>\n",
       "      <td>NaN</td>\n",
       "      <td>3088.883976</td>\n",
       "      <td>NaN</td>\n",
       "      <td>NaN</td>\n",
       "    </tr>\n",
       "    <tr>\n",
       "      <th>Lillibeths</th>\n",
       "      <td>NaN</td>\n",
       "      <td>3082.492503</td>\n",
       "      <td>NaN</td>\n",
       "      <td>NaN</td>\n",
       "    </tr>\n",
       "    <tr>\n",
       "      <th>kraftforsyning</th>\n",
       "      <td>1286.627184</td>\n",
       "      <td>2604.429082</td>\n",
       "      <td>NaN</td>\n",
       "      <td>26.813818</td>\n",
       "    </tr>\n",
       "    <tr>\n",
       "      <th>produksjonsindeks</th>\n",
       "      <td>165.818840</td>\n",
       "      <td>2555.366762</td>\n",
       "      <td>NaN</td>\n",
       "      <td>NaN</td>\n",
       "    </tr>\n",
       "    <tr>\n",
       "      <th>rørtransport</th>\n",
       "      <td>341.103440</td>\n",
       "      <td>2453.083039</td>\n",
       "      <td>NaN</td>\n",
       "      <td>179.495437</td>\n",
       "    </tr>\n",
       "    <tr>\n",
       "      <th>Heidrun-feltet</th>\n",
       "      <td>NaN</td>\n",
       "      <td>2436.826554</td>\n",
       "      <td>137.359592</td>\n",
       "      <td>NaN</td>\n",
       "    </tr>\n",
       "  </tbody>\n",
       "</table>\n",
       "</div>"
      ],
      "text/plain": [
       "                             1970         1985        2000        2015\n",
       "dokumentasjonssenter          NaN  5635.687881         NaN         NaN\n",
       "bergverksdrift        3413.380000  5269.498509   33.468427   19.007288\n",
       "opplevelses-                  NaN  4946.755484         NaN         NaN\n",
       "dykkernes                     NaN  3606.777381         NaN         NaN\n",
       "emiratene                     NaN  3088.883976         NaN         NaN\n",
       "Lillibeths                    NaN  3082.492503         NaN         NaN\n",
       "kraftforsyning        1286.627184  2604.429082         NaN   26.813818\n",
       "produksjonsindeks      165.818840  2555.366762         NaN         NaN\n",
       "rørtransport           341.103440  2453.083039         NaN  179.495437\n",
       "Heidrun-feltet                NaN  2436.826554  137.359592         NaN"
      ]
     },
     "execution_count": 167,
     "metadata": {},
     "output_type": "execute_result"
    }
   ],
   "source": [
    "olje.show_assoc(sortby=1, head=10)"
   ]
  },
  {
   "cell_type": "code",
   "execution_count": 143,
   "id": "dd41b56e-a1b8-47fc-84fc-94c8f2fe80c8",
   "metadata": {},
   "outputs": [
    {
     "data": {
      "text/html": [
       "<div>\n",
       "<style scoped>\n",
       "    .dataframe tbody tr th:only-of-type {\n",
       "        vertical-align: middle;\n",
       "    }\n",
       "\n",
       "    .dataframe tbody tr th {\n",
       "        vertical-align: top;\n",
       "    }\n",
       "\n",
       "    .dataframe thead th {\n",
       "        text-align: right;\n",
       "    }\n",
       "</style>\n",
       "<table border=\"1\" class=\"dataframe\">\n",
       "  <thead>\n",
       "    <tr style=\"text-align: right;\">\n",
       "      <th></th>\n",
       "      <th>1970</th>\n",
       "      <th>1975</th>\n",
       "      <th>1980</th>\n",
       "      <th>1985</th>\n",
       "      <th>1990</th>\n",
       "      <th>1995</th>\n",
       "      <th>2000</th>\n",
       "      <th>2005</th>\n",
       "      <th>2010</th>\n",
       "      <th>2015</th>\n",
       "    </tr>\n",
       "  </thead>\n",
       "  <tbody>\n",
       "    <tr>\n",
       "      <th>klima</th>\n",
       "      <td>44.352454</td>\n",
       "      <td>25.222801</td>\n",
       "      <td>64.977258</td>\n",
       "      <td>NaN</td>\n",
       "      <td>NaN</td>\n",
       "      <td>16.733601</td>\n",
       "      <td>35.902346</td>\n",
       "      <td>146.225553</td>\n",
       "      <td>347.787480</td>\n",
       "      <td>451.520913</td>\n",
       "    </tr>\n",
       "    <tr>\n",
       "      <th>forurensning</th>\n",
       "      <td>325.251331</td>\n",
       "      <td>151.336808</td>\n",
       "      <td>43.318172</td>\n",
       "      <td>143.678161</td>\n",
       "      <td>284.180613</td>\n",
       "      <td>368.139224</td>\n",
       "      <td>83.772140</td>\n",
       "      <td>82.251874</td>\n",
       "      <td>22.199201</td>\n",
       "      <td>154.467681</td>\n",
       "    </tr>\n",
       "    <tr>\n",
       "      <th>forurensing</th>\n",
       "      <td>147.841514</td>\n",
       "      <td>58.853203</td>\n",
       "      <td>32.488629</td>\n",
       "      <td>574.712644</td>\n",
       "      <td>78.939059</td>\n",
       "      <td>NaN</td>\n",
       "      <td>35.902346</td>\n",
       "      <td>63.973679</td>\n",
       "      <td>29.598934</td>\n",
       "      <td>59.410646</td>\n",
       "    </tr>\n",
       "    <tr>\n",
       "      <th>klimaendring</th>\n",
       "      <td>NaN</td>\n",
       "      <td>NaN</td>\n",
       "      <td>NaN</td>\n",
       "      <td>NaN</td>\n",
       "      <td>NaN</td>\n",
       "      <td>16.733601</td>\n",
       "      <td>NaN</td>\n",
       "      <td>NaN</td>\n",
       "      <td>NaN</td>\n",
       "      <td>NaN</td>\n",
       "    </tr>\n",
       "    <tr>\n",
       "      <th>klimaendringer</th>\n",
       "      <td>NaN</td>\n",
       "      <td>NaN</td>\n",
       "      <td>NaN</td>\n",
       "      <td>NaN</td>\n",
       "      <td>NaN</td>\n",
       "      <td>NaN</td>\n",
       "      <td>35.902346</td>\n",
       "      <td>82.251874</td>\n",
       "      <td>236.791476</td>\n",
       "      <td>71.292776</td>\n",
       "    </tr>\n",
       "    <tr>\n",
       "      <th>klimakrise</th>\n",
       "      <td>NaN</td>\n",
       "      <td>NaN</td>\n",
       "      <td>NaN</td>\n",
       "      <td>NaN</td>\n",
       "      <td>NaN</td>\n",
       "      <td>NaN</td>\n",
       "      <td>NaN</td>\n",
       "      <td>NaN</td>\n",
       "      <td>NaN</td>\n",
       "      <td>35.646388</td>\n",
       "    </tr>\n",
       "    <tr>\n",
       "      <th>klimakrisen</th>\n",
       "      <td>NaN</td>\n",
       "      <td>NaN</td>\n",
       "      <td>NaN</td>\n",
       "      <td>NaN</td>\n",
       "      <td>NaN</td>\n",
       "      <td>NaN</td>\n",
       "      <td>NaN</td>\n",
       "      <td>18.278194</td>\n",
       "      <td>7.399734</td>\n",
       "      <td>11.882129</td>\n",
       "    </tr>\n",
       "  </tbody>\n",
       "</table>\n",
       "</div>"
      ],
      "text/plain": [
       "                      1970        1975       1980        1985        1990  \\\n",
       "klima            44.352454   25.222801  64.977258         NaN         NaN   \n",
       "forurensning    325.251331  151.336808  43.318172  143.678161  284.180613   \n",
       "forurensing     147.841514   58.853203  32.488629  574.712644   78.939059   \n",
       "klimaendring           NaN         NaN        NaN         NaN         NaN   \n",
       "klimaendringer         NaN         NaN        NaN         NaN         NaN   \n",
       "klimakrise             NaN         NaN        NaN         NaN         NaN   \n",
       "klimakrisen            NaN         NaN        NaN         NaN         NaN   \n",
       "\n",
       "                      1995       2000        2005        2010        2015  \n",
       "klima            16.733601  35.902346  146.225553  347.787480  451.520913  \n",
       "forurensning    368.139224  83.772140   82.251874   22.199201  154.467681  \n",
       "forurensing            NaN  35.902346   63.973679   29.598934   59.410646  \n",
       "klimaendring     16.733601        NaN         NaN         NaN         NaN  \n",
       "klimaendringer         NaN  35.902346   82.251874  236.791476   71.292776  \n",
       "klimakrise             NaN        NaN         NaN         NaN   35.646388  \n",
       "klimakrisen            NaN        NaN   18.278194    7.399734   11.882129  "
      ]
     },
     "execution_count": 143,
     "metadata": {},
     "output_type": "execute_result"
    }
   ],
   "source": [
    "olje.show_coll_relative(sortby=2, subset=\"klimaendring klimaendringer klimakrise klimakrisen klima forurensing forurensning\".split(), multiplier=1000000, head=None)"
   ]
  },
  {
   "cell_type": "markdown",
   "id": "8b116cbc-0b1d-4067-b493-36e4cc544cf7",
   "metadata": {},
   "source": [
    "# Plot params"
   ]
  },
  {
   "cell_type": "code",
   "execution_count": 182,
   "id": "38727da9-03f7-4966-b426-c965f5063baf",
   "metadata": {},
   "outputs": [],
   "source": [
    "import matplotlib.pyplot as plt\n",
    "plt.rcParams.update({'font.size': 10})"
   ]
  },
  {
   "cell_type": "markdown",
   "id": "ce5a8a23-ba57-472d-a8a8-c39de642d833",
   "metadata": {},
   "source": [
    "# Relative frequencies"
   ]
  },
  {
   "cell_type": "code",
   "execution_count": 263,
   "id": "c02c1724-7d1c-4f26-bda7-e7f7b75df9cc",
   "metadata": {},
   "outputs": [],
   "source": [
    "words = \"\"\"klimaendringer\n",
    "miljøvern klima klimaet klimakrisen klimagasser\n",
    "klimagassutslipp forurensing\"\"\".split()\n",
    "\n",
    "w2 = \"\"\"oljerikdom NBIM oljefondet Oljefondet oljeinntektene\"\"\".split()\n",
    "\n",
    "pollution_words = \"sot svovel co2 Co2 CO2 nitrogener NOx NOX nox\".split()\n",
    "pollution_words2 = \"sot svovel co2 Co2 CO2\".split()"
   ]
  },
  {
   "cell_type": "code",
   "execution_count": 216,
   "id": "48df750f-349c-4a4a-a9de-7c9d36c7a141",
   "metadata": {},
   "outputs": [
    {
     "data": {
      "text/plain": [
       "<Axes: >"
      ]
     },
     "execution_count": 216,
     "metadata": {},
     "output_type": "execute_result"
    },
    {
     "data": {
      "image/png": "[encoded data removed]",
      "text/plain": [
       "<Figure size 1000x500 with 1 Axes>"
      ]
     },
     "metadata": {},
     "output_type": "display_data"
    }
   ],
   "source": [
    "(olje\n",
    " .show_coll_relative(\n",
    "     sortby=2, \n",
    "     multiplier=1000000,\n",
    "     subset=words, \n",
    "     head=None)\n",
    " .transpose()\n",
    " .plot(kind='bar', figsize=(10,5), rot=0)\n",
    ")"
   ]
  },
  {
   "cell_type": "code",
   "execution_count": 255,
   "id": "d7b91ee8-b228-4ab5-83b7-22d153a4d4ae",
   "metadata": {},
   "outputs": [
    {
     "data": {
      "text/plain": [
       "<Axes: >"
      ]
     },
     "execution_count": 255,
     "metadata": {},
     "output_type": "execute_result"
    },
    {
     "data": {
      "image/png": "[encoded data removed]",
      "text/plain": [
       "<Figure size 1000x500 with 1 Axes>"
      ]
     },
     "metadata": {},
     "output_type": "display_data"
    }
   ],
   "source": [
    "(pollution\n",
    " .show_coll_relative(\n",
    "     sortby=2, \n",
    "     multiplier=1000000,\n",
    "     subset=pollution_words, \n",
    "     head=None)\n",
    " .transpose()\n",
    " .plot(kind='bar', figsize=(10,5), rot=0)\n",
    ")"
   ]
  },
  {
   "cell_type": "code",
   "execution_count": 260,
   "id": "1c143cb9-5e17-4970-b13d-1f06deda3dfe",
   "metadata": {},
   "outputs": [
    {
     "data": {
      "text/plain": [
       "<Axes: >"
      ]
     },
     "execution_count": 260,
     "metadata": {},
     "output_type": "execute_result"
    },
    {
     "data": {
      "image/png": "[encoded data removed]",
      "text/plain": [
       "<Figure size 1000x500 with 1 Axes>"
      ]
     },
     "metadata": {},
     "output_type": "display_data"
    }
   ],
   "source": [
    "(pollution2\n",
    " .show_coll_relative(\n",
    "     sortby=2, \n",
    "     multiplier=1000000,\n",
    "     subset=pollution_words, \n",
    "     head=None)\n",
    " .transpose()\n",
    " .plot(kind='bar', figsize=(10,5), rot=0)\n",
    ")"
   ]
  },
  {
   "cell_type": "code",
   "execution_count": 217,
   "id": "414cb96c-285f-4dc2-976d-d038dbc63c5a",
   "metadata": {},
   "outputs": [
    {
     "data": {
      "text/plain": [
       "<Axes: >"
      ]
     },
     "execution_count": 217,
     "metadata": {},
     "output_type": "execute_result"
    },
    {
     "data": {
      "image/png": "[encoded data removed]",
      "text/plain": [
       "<Figure size 1000x500 with 1 Axes>"
      ]
     },
     "metadata": {},
     "output_type": "display_data"
    }
   ],
   "source": [
    "(klimagass\n",
    " .show_coll_relative(\n",
    "     sortby=2, \n",
    "     multiplier=1000000,\n",
    "     subset= words,\n",
    "     head=None)\n",
    "   \n",
    " .transpose()\n",
    " .plot(kind='bar', figsize=(10,5), rot=0)\n",
    ")"
   ]
  },
  {
   "cell_type": "markdown",
   "id": "43783c5c-9e93-4493-8bfd-6f1c13e6f722",
   "metadata": {},
   "source": [
    "# Assocs"
   ]
  },
  {
   "cell_type": "code",
   "execution_count": 225,
   "id": "fff9ab5e-39ee-41e7-9de3-3973f8f3aeef",
   "metadata": {},
   "outputs": [
    {
     "data": {
      "text/plain": [
       "<Axes: >"
      ]
     },
     "execution_count": 225,
     "metadata": {},
     "output_type": "execute_result"
    },
    {
     "data": {
      "image/png": "[encoded data removed]",
      "text/plain": [
       "<Figure size 800x400 with 1 Axes>"
      ]
     },
     "metadata": {},
     "output_type": "display_data"
    }
   ],
   "source": [
    "(olje\n",
    " .show_assoc(sortby=2, \n",
    "             subset=words+w2+['oljeinntekter'],\n",
    "             head=None)\n",
    " .transpose()\n",
    " .plot(kind='bar', figsize=(8,4), rot=0, legend=False)\n",
    ")"
   ]
  },
  {
   "cell_type": "code",
   "execution_count": 264,
   "id": "acf28434-662a-4e7f-8578-60dc37a8dd45",
   "metadata": {},
   "outputs": [
    {
     "data": {
      "text/plain": [
       "<Axes: >"
      ]
     },
     "execution_count": 264,
     "metadata": {},
     "output_type": "execute_result"
    },
    {
     "data": {
      "image/png": "[encoded data removed]",
      "text/plain": [
       "<Figure size 800x400 with 1 Axes>"
      ]
     },
     "metadata": {},
     "output_type": "display_data"
    }
   ],
   "source": [
    "(pollution\n",
    " .show_assoc(sortby=2, \n",
    "             subset=pollution_words2,\n",
    "             head=None)\n",
    " .transpose()\n",
    " .plot(kind='bar', figsize=(8,4), rot=0)\n",
    ")"
   ]
  },
  {
   "cell_type": "code",
   "execution_count": 265,
   "id": "ce0eccb1-c73b-48ea-8de7-0df8b64d088a",
   "metadata": {},
   "outputs": [
    {
     "data": {
      "text/plain": [
       "<Axes: >"
      ]
     },
     "execution_count": 265,
     "metadata": {},
     "output_type": "execute_result"
    },
    {
     "data": {
      "image/png": "[encoded data removed]",
      "text/plain": [
       "<Figure size 800x400 with 1 Axes>"
      ]
     },
     "metadata": {},
     "output_type": "display_data"
    }
   ],
   "source": [
    "(pollution2\n",
    " .show_assoc(sortby=2, \n",
    "             subset=pollution_words2,\n",
    "             head=None)\n",
    " .transpose()\n",
    " .plot(kind='bar', figsize=(8,4), rot=0)\n",
    ")"
   ]
  },
  {
   "cell_type": "code",
   "execution_count": 261,
   "id": "5303c4c7-b6f5-4da6-8312-3c00802da1ef",
   "metadata": {},
   "outputs": [
    {
     "data": {
      "text/plain": [
       "<Axes: >"
      ]
     },
     "execution_count": 261,
     "metadata": {},
     "output_type": "execute_result"
    },
    {
     "data": {
      "image/png": "[encoded data removed]",
      "text/plain": [
       "<Figure size 800x400 with 1 Axes>"
      ]
     },
     "metadata": {},
     "output_type": "display_data"
    }
   ],
   "source": [
    "(pollution2\n",
    " .show_assoc(sortby=2, \n",
    "             subset=pollution_words,\n",
    "             head=None)\n",
    " .transpose()\n",
    " .plot(kind='bar', figsize=(8,4), rot=0)\n",
    ")"
   ]
  },
  {
   "cell_type": "code",
   "execution_count": 243,
   "id": "851d6dc7-6286-45fd-84c5-c2e2a29010ef",
   "metadata": {},
   "outputs": [
    {
     "data": {
      "text/plain": [
       "<Axes: >"
      ]
     },
     "execution_count": 243,
     "metadata": {},
     "output_type": "execute_result"
    },
    {
     "data": {
      "image/png": "[encoded data removed]",
      "text/plain": [
       "<Figure size 800x400 with 1 Axes>"
      ]
     },
     "metadata": {},
     "output_type": "display_data"
    }
   ],
   "source": [
    "(olje\n",
    " .show_assoc(sortby=2, \n",
    "             subset=w2+['oljeinntekter'],\n",
    "             head=None)\n",
    " .transpose()\n",
    " .plot(kind='bar', figsize=(8,4), rot=0)\n",
    ")"
   ]
  },
  {
   "cell_type": "code",
   "execution_count": 220,
   "id": "5700cff7-b006-4f21-85e8-a119bbeecbe1",
   "metadata": {},
   "outputs": [
    {
     "data": {
      "text/plain": [
       "<Axes: >"
      ]
     },
     "execution_count": 220,
     "metadata": {},
     "output_type": "execute_result"
    },
    {
     "data": {
      "image/png": "[encoded data removed]",
      "text/plain": [
       "<Figure size 800x400 with 1 Axes>"
      ]
     },
     "metadata": {},
     "output_type": "display_data"
    }
   ],
   "source": [
    "(klimagass\n",
    " .show_assoc(sortby=2, \n",
    "            subset= words,\n",
    "              head=None)\n",
    " .transpose()\n",
    " .plot(kind='bar', figsize=(8,4), rot=0)\n",
    ")"
   ]
  },
  {
   "cell_type": "code",
   "execution_count": null,
   "id": "1909a180-51ff-496b-8680-cac49439ed6c",
   "metadata": {},
   "outputs": [],
   "source": []
  },
  {
   "cell_type": "code",
   "execution_count": null,
   "id": "8d2159d1-9358-43cc-af4c-1e219ec72b5b",
   "metadata": {},
   "outputs": [],
   "source": []
  },
  {
   "cell_type": "code",
   "execution_count": 244,
   "id": "7277de2d-ca52-4e14-ade2-b430be2d4f54",
   "metadata": {},
   "outputs": [
    {
     "data": {
      "text/html": [
       "<style type=\"text/css\">\n",
       "#T_6a6d3_row0_col0, #T_6a6d3_row1_col0, #T_6a6d3_row2_col1, #T_6a6d3_row3_col1, #T_6a6d3_row4_col1, #T_6a6d3_row5_col3, #T_6a6d3_row6_col2, #T_6a6d3_row7_col3, #T_6a6d3_row8_col3, #T_6a6d3_row9_col3, #T_6a6d3_row10_col2, #T_6a6d3_row11_col3, #T_6a6d3_row12_col3, #T_6a6d3_row13_col2, #T_6a6d3_row14_col3 {\n",
       "  background-color: #023858;\n",
       "  color: #f1f1f1;\n",
       "}\n",
       "#T_6a6d3_row0_col1 {\n",
       "  background-color: #bfc9e1;\n",
       "  color: #000000;\n",
       "}\n",
       "#T_6a6d3_row0_col2, #T_6a6d3_row5_col0 {\n",
       "  background-color: #f8f1f8;\n",
       "  color: #000000;\n",
       "}\n",
       "#T_6a6d3_row0_col3, #T_6a6d3_row1_col2, #T_6a6d3_row2_col2, #T_6a6d3_row3_col2, #T_6a6d3_row4_col0, #T_6a6d3_row5_col1, #T_6a6d3_row6_col0, #T_6a6d3_row6_col1, #T_6a6d3_row7_col0, #T_6a6d3_row8_col0, #T_6a6d3_row8_col1, #T_6a6d3_row8_col2, #T_6a6d3_row9_col0, #T_6a6d3_row10_col0, #T_6a6d3_row10_col1, #T_6a6d3_row11_col0, #T_6a6d3_row11_col1, #T_6a6d3_row11_col2, #T_6a6d3_row12_col0, #T_6a6d3_row12_col1, #T_6a6d3_row12_col2, #T_6a6d3_row13_col0, #T_6a6d3_row14_col0, #T_6a6d3_row14_col1 {\n",
       "  background-color: #fff7fb;\n",
       "  color: #000000;\n",
       "}\n",
       "#T_6a6d3_row1_col1 {\n",
       "  background-color: #046299;\n",
       "  color: #f1f1f1;\n",
       "}\n",
       "#T_6a6d3_row1_col3 {\n",
       "  background-color: #d4d4e8;\n",
       "  color: #000000;\n",
       "}\n",
       "#T_6a6d3_row2_col0 {\n",
       "  background-color: #04588a;\n",
       "  color: #f1f1f1;\n",
       "}\n",
       "#T_6a6d3_row2_col3 {\n",
       "  background-color: #3b92c1;\n",
       "  color: #f1f1f1;\n",
       "}\n",
       "#T_6a6d3_row3_col0 {\n",
       "  background-color: #a4bcda;\n",
       "  color: #000000;\n",
       "}\n",
       "#T_6a6d3_row3_col3 {\n",
       "  background-color: #e9e5f1;\n",
       "  color: #000000;\n",
       "}\n",
       "#T_6a6d3_row4_col2 {\n",
       "  background-color: #f9f2f8;\n",
       "  color: #000000;\n",
       "}\n",
       "#T_6a6d3_row4_col3 {\n",
       "  background-color: #f3edf5;\n",
       "  color: #000000;\n",
       "}\n",
       "#T_6a6d3_row5_col2 {\n",
       "  background-color: #cccfe5;\n",
       "  color: #000000;\n",
       "}\n",
       "#T_6a6d3_row6_col3 {\n",
       "  background-color: #045e93;\n",
       "  color: #f1f1f1;\n",
       "}\n",
       "#T_6a6d3_row7_col1 {\n",
       "  background-color: #f4edf6;\n",
       "  color: #000000;\n",
       "}\n",
       "#T_6a6d3_row7_col2 {\n",
       "  background-color: #549cc7;\n",
       "  color: #f1f1f1;\n",
       "}\n",
       "#T_6a6d3_row9_col1 {\n",
       "  background-color: #d9d8ea;\n",
       "  color: #000000;\n",
       "}\n",
       "#T_6a6d3_row9_col2 {\n",
       "  background-color: #8cb3d5;\n",
       "  color: #000000;\n",
       "}\n",
       "#T_6a6d3_row10_col3 {\n",
       "  background-color: #71a8ce;\n",
       "  color: #f1f1f1;\n",
       "}\n",
       "#T_6a6d3_row13_col1 {\n",
       "  background-color: #056ba9;\n",
       "  color: #f1f1f1;\n",
       "}\n",
       "#T_6a6d3_row13_col3 {\n",
       "  background-color: #2081b9;\n",
       "  color: #f1f1f1;\n",
       "}\n",
       "#T_6a6d3_row14_col2 {\n",
       "  background-color: #adc1dd;\n",
       "  color: #000000;\n",
       "}\n",
       "</style>\n",
       "<table id=\"T_6a6d3\">\n",
       "  <thead>\n",
       "    <tr>\n",
       "      <th class=\"blank level0\" >&nbsp;</th>\n",
       "      <th id=\"T_6a6d3_level0_col0\" class=\"col_heading level0 col0\" >1970</th>\n",
       "      <th id=\"T_6a6d3_level0_col1\" class=\"col_heading level0 col1\" >1985</th>\n",
       "      <th id=\"T_6a6d3_level0_col2\" class=\"col_heading level0 col2\" >2000</th>\n",
       "      <th id=\"T_6a6d3_level0_col3\" class=\"col_heading level0 col3\" >2015</th>\n",
       "    </tr>\n",
       "  </thead>\n",
       "  <tbody>\n",
       "    <tr>\n",
       "      <th id=\"T_6a6d3_level0_row0\" class=\"row_heading level0 row0\" >oljeinntekter</th>\n",
       "      <td id=\"T_6a6d3_row0_col0\" class=\"data row0 col0\" >347</td>\n",
       "      <td id=\"T_6a6d3_row0_col1\" class=\"data row0 col1\" >119</td>\n",
       "      <td id=\"T_6a6d3_row0_col2\" class=\"data row0 col2\" >36</td>\n",
       "      <td id=\"T_6a6d3_row0_col3\" class=\"data row0 col3\" >20</td>\n",
       "    </tr>\n",
       "    <tr>\n",
       "      <th id=\"T_6a6d3_level0_row1\" class=\"row_heading level0 row1\" >oljeinntektene</th>\n",
       "      <td id=\"T_6a6d3_row1_col0\" class=\"data row1 col0\" >79</td>\n",
       "      <td id=\"T_6a6d3_row1_col1\" class=\"data row1 col1\" >68</td>\n",
       "      <td id=\"T_6a6d3_row1_col2\" class=\"data row1 col2\" >12</td>\n",
       "      <td id=\"T_6a6d3_row1_col3\" class=\"data row1 col3\" >28</td>\n",
       "    </tr>\n",
       "    <tr>\n",
       "      <th id=\"T_6a6d3_level0_row2\" class=\"row_heading level0 row2\" >forurensning</th>\n",
       "      <td id=\"T_6a6d3_row2_col0\" class=\"data row2 col0\" >47</td>\n",
       "      <td id=\"T_6a6d3_row2_col1\" class=\"data row2 col1\" >53</td>\n",
       "      <td id=\"T_6a6d3_row2_col2\" class=\"data row2 col2\" >6</td>\n",
       "      <td id=\"T_6a6d3_row2_col3\" class=\"data row2 col3\" >34</td>\n",
       "    </tr>\n",
       "    <tr>\n",
       "      <th id=\"T_6a6d3_level0_row3\" class=\"row_heading level0 row3\" >miljøvern</th>\n",
       "      <td id=\"T_6a6d3_row3_col0\" class=\"data row3 col0\" >36</td>\n",
       "      <td id=\"T_6a6d3_row3_col1\" class=\"data row3 col1\" >89</td>\n",
       "      <td id=\"T_6a6d3_row3_col2\" class=\"data row3 col2\" >3</td>\n",
       "      <td id=\"T_6a6d3_row3_col3\" class=\"data row3 col3\" >15</td>\n",
       "    </tr>\n",
       "    <tr>\n",
       "      <th id=\"T_6a6d3_level0_row4\" class=\"row_heading level0 row4\" >forurensing</th>\n",
       "      <td id=\"T_6a6d3_row4_col0\" class=\"data row4 col0\" >23</td>\n",
       "      <td id=\"T_6a6d3_row4_col1\" class=\"data row4 col1\" >113</td>\n",
       "      <td id=\"T_6a6d3_row4_col2\" class=\"data row4 col2\" >27</td>\n",
       "      <td id=\"T_6a6d3_row4_col3\" class=\"data row4 col3\" >30</td>\n",
       "    </tr>\n",
       "    <tr>\n",
       "      <th id=\"T_6a6d3_level0_row5\" class=\"row_heading level0 row5\" >klima</th>\n",
       "      <td id=\"T_6a6d3_row5_col0\" class=\"data row5 col0\" >3</td>\n",
       "      <td id=\"T_6a6d3_row5_col1\" class=\"data row5 col1\" >1</td>\n",
       "      <td id=\"T_6a6d3_row5_col2\" class=\"data row5 col2\" >12</td>\n",
       "      <td id=\"T_6a6d3_row5_col3\" class=\"data row5 col3\" >44</td>\n",
       "    </tr>\n",
       "    <tr>\n",
       "      <th id=\"T_6a6d3_level0_row6\" class=\"row_heading level0 row6\" >klimaendringer</th>\n",
       "      <td id=\"T_6a6d3_row6_col0\" class=\"data row6 col0\" >0</td>\n",
       "      <td id=\"T_6a6d3_row6_col1\" class=\"data row6 col1\" >0</td>\n",
       "      <td id=\"T_6a6d3_row6_col2\" class=\"data row6 col2\" >130</td>\n",
       "      <td id=\"T_6a6d3_row6_col3\" class=\"data row6 col3\" >111</td>\n",
       "    </tr>\n",
       "    <tr>\n",
       "      <th id=\"T_6a6d3_level0_row7\" class=\"row_heading level0 row7\" >klimaet</th>\n",
       "      <td id=\"T_6a6d3_row7_col0\" class=\"data row7 col0\" >0</td>\n",
       "      <td id=\"T_6a6d3_row7_col1\" class=\"data row7 col1\" >5</td>\n",
       "      <td id=\"T_6a6d3_row7_col2\" class=\"data row7 col2\" >37</td>\n",
       "      <td id=\"T_6a6d3_row7_col3\" class=\"data row7 col3\" >65</td>\n",
       "    </tr>\n",
       "    <tr>\n",
       "      <th id=\"T_6a6d3_level0_row8\" class=\"row_heading level0 row8\" >klimakrisen</th>\n",
       "      <td id=\"T_6a6d3_row8_col0\" class=\"data row8 col0\" >0</td>\n",
       "      <td id=\"T_6a6d3_row8_col1\" class=\"data row8 col1\" >0</td>\n",
       "      <td id=\"T_6a6d3_row8_col2\" class=\"data row8 col2\" >0</td>\n",
       "      <td id=\"T_6a6d3_row8_col3\" class=\"data row8 col3\" >203</td>\n",
       "    </tr>\n",
       "    <tr>\n",
       "      <th id=\"T_6a6d3_level0_row9\" class=\"row_heading level0 row9\" >klimagasser</th>\n",
       "      <td id=\"T_6a6d3_row9_col0\" class=\"data row9 col0\" >0</td>\n",
       "      <td id=\"T_6a6d3_row9_col1\" class=\"data row9 col1\" >38</td>\n",
       "      <td id=\"T_6a6d3_row9_col2\" class=\"data row9 col2\" >81</td>\n",
       "      <td id=\"T_6a6d3_row9_col3\" class=\"data row9 col3\" >183</td>\n",
       "    </tr>\n",
       "    <tr>\n",
       "      <th id=\"T_6a6d3_level0_row10\" class=\"row_heading level0 row10\" >klimagassutslipp</th>\n",
       "      <td id=\"T_6a6d3_row10_col0\" class=\"data row10 col0\" >0</td>\n",
       "      <td id=\"T_6a6d3_row10_col1\" class=\"data row10 col1\" >0</td>\n",
       "      <td id=\"T_6a6d3_row10_col2\" class=\"data row10 col2\" >352</td>\n",
       "      <td id=\"T_6a6d3_row10_col3\" class=\"data row10 col3\" >178</td>\n",
       "    </tr>\n",
       "    <tr>\n",
       "      <th id=\"T_6a6d3_level0_row11\" class=\"row_heading level0 row11\" >oljerikdom</th>\n",
       "      <td id=\"T_6a6d3_row11_col0\" class=\"data row11 col0\" >0</td>\n",
       "      <td id=\"T_6a6d3_row11_col1\" class=\"data row11 col1\" >0</td>\n",
       "      <td id=\"T_6a6d3_row11_col2\" class=\"data row11 col2\" >0</td>\n",
       "      <td id=\"T_6a6d3_row11_col3\" class=\"data row11 col3\" >456</td>\n",
       "    </tr>\n",
       "    <tr>\n",
       "      <th id=\"T_6a6d3_level0_row12\" class=\"row_heading level0 row12\" >NBIM</th>\n",
       "      <td id=\"T_6a6d3_row12_col0\" class=\"data row12 col0\" >0</td>\n",
       "      <td id=\"T_6a6d3_row12_col1\" class=\"data row12 col1\" >0</td>\n",
       "      <td id=\"T_6a6d3_row12_col2\" class=\"data row12 col2\" >0</td>\n",
       "      <td id=\"T_6a6d3_row12_col3\" class=\"data row12 col3\" >161</td>\n",
       "    </tr>\n",
       "    <tr>\n",
       "      <th id=\"T_6a6d3_level0_row13\" class=\"row_heading level0 row13\" >oljefondet</th>\n",
       "      <td id=\"T_6a6d3_row13_col0\" class=\"data row13 col0\" >0</td>\n",
       "      <td id=\"T_6a6d3_row13_col1\" class=\"data row13 col1\" >94</td>\n",
       "      <td id=\"T_6a6d3_row13_col2\" class=\"data row13 col2\" >121</td>\n",
       "      <td id=\"T_6a6d3_row13_col3\" class=\"data row13 col3\" >82</td>\n",
       "    </tr>\n",
       "    <tr>\n",
       "      <th id=\"T_6a6d3_level0_row14\" class=\"row_heading level0 row14\" >Oljefondet</th>\n",
       "      <td id=\"T_6a6d3_row14_col0\" class=\"data row14 col0\" >0</td>\n",
       "      <td id=\"T_6a6d3_row14_col1\" class=\"data row14 col1\" >0</td>\n",
       "      <td id=\"T_6a6d3_row14_col2\" class=\"data row14 col2\" >23</td>\n",
       "      <td id=\"T_6a6d3_row14_col3\" class=\"data row14 col3\" >66</td>\n",
       "    </tr>\n",
       "  </tbody>\n",
       "</table>\n"
      ],
      "text/plain": [
       "<pandas.io.formats.style.Styler at 0x713294494710>"
      ]
     },
     "execution_count": 244,
     "metadata": {},
     "output_type": "execute_result"
    }
   ],
   "source": [
    "(olje\n",
    " .show_assoc(sortby=None, \n",
    "             subset=words+w2+['oljeinntekter', 'forurensning'],\n",
    "             head=None)\n",
    " .fillna(0)\n",
    " #.sort_index()\n",
    " .style\n",
    " .format(precision=0)\n",
    " .background_gradient(axis=1)\n",
    " #.transpose()\n",
    " #.plot(kind='bar', figsize=(8,4), rot=0)\n",
    ")"
   ]
  },
  {
   "cell_type": "code",
   "execution_count": 267,
   "id": "f3b36cd0-4e3b-45da-8a02-16aeae5aba90",
   "metadata": {},
   "outputs": [
    {
     "data": {
      "text/html": [
       "<style type=\"text/css\">\n",
       "#T_ccfc2_row0_col0 {\n",
       "  background-color: #056faf;\n",
       "  color: #f1f1f1;\n",
       "}\n",
       "#T_ccfc2_row0_col1, #T_ccfc2_row1_col2, #T_ccfc2_row2_col2 {\n",
       "  background-color: #023858;\n",
       "  color: #f1f1f1;\n",
       "}\n",
       "#T_ccfc2_row0_col2, #T_ccfc2_row1_col0, #T_ccfc2_row2_col0, #T_ccfc2_row2_col1 {\n",
       "  background-color: #fff7fb;\n",
       "  color: #000000;\n",
       "}\n",
       "#T_ccfc2_row0_col3 {\n",
       "  background-color: #0569a4;\n",
       "  color: #f1f1f1;\n",
       "}\n",
       "#T_ccfc2_row1_col1 {\n",
       "  background-color: #eae6f1;\n",
       "  color: #000000;\n",
       "}\n",
       "#T_ccfc2_row1_col3 {\n",
       "  background-color: #bcc7e1;\n",
       "  color: #000000;\n",
       "}\n",
       "#T_ccfc2_row2_col3 {\n",
       "  background-color: #d4d4e8;\n",
       "  color: #000000;\n",
       "}\n",
       "</style>\n",
       "<table id=\"T_ccfc2\">\n",
       "  <thead>\n",
       "    <tr>\n",
       "      <th class=\"blank level0\" >&nbsp;</th>\n",
       "      <th id=\"T_ccfc2_level0_col0\" class=\"col_heading level0 col0\" >1970</th>\n",
       "      <th id=\"T_ccfc2_level0_col1\" class=\"col_heading level0 col1\" >1985</th>\n",
       "      <th id=\"T_ccfc2_level0_col2\" class=\"col_heading level0 col2\" >2000</th>\n",
       "      <th id=\"T_ccfc2_level0_col3\" class=\"col_heading level0 col3\" >2015</th>\n",
       "    </tr>\n",
       "  </thead>\n",
       "  <tbody>\n",
       "    <tr>\n",
       "      <th id=\"T_ccfc2_level0_row0\" class=\"row_heading level0 row0\" >svovel</th>\n",
       "      <td id=\"T_ccfc2_row0_col0\" class=\"data row0 col0\" >22</td>\n",
       "      <td id=\"T_ccfc2_row0_col1\" class=\"data row0 col1\" >27</td>\n",
       "      <td id=\"T_ccfc2_row0_col2\" class=\"data row0 col2\" >6</td>\n",
       "      <td id=\"T_ccfc2_row0_col3\" class=\"data row0 col3\" >23</td>\n",
       "    </tr>\n",
       "    <tr>\n",
       "      <th id=\"T_ccfc2_level0_row1\" class=\"row_heading level0 row1\" >CO2</th>\n",
       "      <td id=\"T_ccfc2_row1_col0\" class=\"data row1 col0\" >3</td>\n",
       "      <td id=\"T_ccfc2_row1_col1\" class=\"data row1 col1\" >19</td>\n",
       "      <td id=\"T_ccfc2_row1_col2\" class=\"data row1 col2\" >119</td>\n",
       "      <td id=\"T_ccfc2_row1_col3\" class=\"data row1 col3\" >39</td>\n",
       "    </tr>\n",
       "    <tr>\n",
       "      <th id=\"T_ccfc2_level0_row2\" class=\"row_heading level0 row2\" >NOX</th>\n",
       "      <td id=\"T_ccfc2_row2_col0\" class=\"data row2 col0\" >0</td>\n",
       "      <td id=\"T_ccfc2_row2_col1\" class=\"data row2 col1\" >0</td>\n",
       "      <td id=\"T_ccfc2_row2_col2\" class=\"data row2 col2\" >681</td>\n",
       "      <td id=\"T_ccfc2_row2_col3\" class=\"data row2 col3\" >158</td>\n",
       "    </tr>\n",
       "  </tbody>\n",
       "</table>\n"
      ],
      "text/plain": [
       "<pandas.io.formats.style.Styler at 0x7132910051d0>"
      ]
     },
     "execution_count": 267,
     "metadata": {},
     "output_type": "execute_result"
    }
   ],
   "source": [
    "(pollution2\n",
    " .show_assoc(sortby=None, \n",
    "             subset=[\"svovel\",\"CO2\", \"NOX\"],#pollution_words,\n",
    "             head=None)\n",
    " .fillna(0)\n",
    " #.sort_index()\n",
    " .style\n",
    " .format(precision=0)\n",
    " .background_gradient(axis=1)\n",
    " #.transpose()\n",
    " #.plot(kind='bar', figsize=(8,4), rot=0)\n",
    ")"
   ]
  },
  {
   "cell_type": "code",
   "execution_count": 250,
   "id": "4d04f7a3-508b-40f5-b7c7-267d3353aad5",
   "metadata": {},
   "outputs": [
    {
     "data": {
      "text/html": [
       "<style type=\"text/css\">\n",
       "#T_e3dca_row0_col0, #T_e3dca_row1_col1, #T_e3dca_row2_col0, #T_e3dca_row3_col1, #T_e3dca_row4_col0, #T_e3dca_row5_col3, #T_e3dca_row6_col3, #T_e3dca_row7_col3, #T_e3dca_row8_col3, #T_e3dca_row9_col3, #T_e3dca_row10_col3, #T_e3dca_row11_col1, #T_e3dca_row13_col2, #T_e3dca_row14_col3 {\n",
       "  background-color: #023858;\n",
       "  color: #f1f1f1;\n",
       "}\n",
       "#T_e3dca_row0_col1, #T_e3dca_row2_col1 {\n",
       "  background-color: #045f95;\n",
       "  color: #f1f1f1;\n",
       "}\n",
       "#T_e3dca_row0_col2, #T_e3dca_row1_col3, #T_e3dca_row2_col3, #T_e3dca_row3_col3, #T_e3dca_row4_col1, #T_e3dca_row4_col3, #T_e3dca_row5_col0, #T_e3dca_row6_col0, #T_e3dca_row6_col1, #T_e3dca_row7_col0, #T_e3dca_row8_col0, #T_e3dca_row8_col1, #T_e3dca_row9_col0, #T_e3dca_row9_col1, #T_e3dca_row10_col0, #T_e3dca_row10_col1, #T_e3dca_row10_col2, #T_e3dca_row11_col0, #T_e3dca_row11_col3, #T_e3dca_row12_col0, #T_e3dca_row12_col1, #T_e3dca_row12_col2, #T_e3dca_row12_col3, #T_e3dca_row13_col0, #T_e3dca_row14_col0, #T_e3dca_row14_col1 {\n",
       "  background-color: #fff7fb;\n",
       "  color: #000000;\n",
       "}\n",
       "#T_e3dca_row0_col3 {\n",
       "  background-color: #e8e4f0;\n",
       "  color: #000000;\n",
       "}\n",
       "#T_e3dca_row1_col0 {\n",
       "  background-color: #93b5d6;\n",
       "  color: #000000;\n",
       "}\n",
       "#T_e3dca_row1_col2 {\n",
       "  background-color: #023e62;\n",
       "  color: #f1f1f1;\n",
       "}\n",
       "#T_e3dca_row2_col2 {\n",
       "  background-color: #e0dded;\n",
       "  color: #000000;\n",
       "}\n",
       "#T_e3dca_row3_col0 {\n",
       "  background-color: #d0d1e6;\n",
       "  color: #000000;\n",
       "}\n",
       "#T_e3dca_row3_col2 {\n",
       "  background-color: #bdc8e1;\n",
       "  color: #000000;\n",
       "}\n",
       "#T_e3dca_row4_col2 {\n",
       "  background-color: #5ea0ca;\n",
       "  color: #f1f1f1;\n",
       "}\n",
       "#T_e3dca_row5_col1 {\n",
       "  background-color: #e7e3f0;\n",
       "  color: #000000;\n",
       "}\n",
       "#T_e3dca_row5_col2 {\n",
       "  background-color: #056aa6;\n",
       "  color: #f1f1f1;\n",
       "}\n",
       "#T_e3dca_row6_col2 {\n",
       "  background-color: #cacee5;\n",
       "  color: #000000;\n",
       "}\n",
       "#T_e3dca_row7_col1 {\n",
       "  background-color: #efe9f3;\n",
       "  color: #000000;\n",
       "}\n",
       "#T_e3dca_row7_col2 {\n",
       "  background-color: #dad9ea;\n",
       "  color: #000000;\n",
       "}\n",
       "#T_e3dca_row8_col2 {\n",
       "  background-color: #bcc7e1;\n",
       "  color: #000000;\n",
       "}\n",
       "#T_e3dca_row9_col2 {\n",
       "  background-color: #034a74;\n",
       "  color: #f1f1f1;\n",
       "}\n",
       "#T_e3dca_row11_col2 {\n",
       "  background-color: #023d60;\n",
       "  color: #f1f1f1;\n",
       "}\n",
       "#T_e3dca_row13_col1 {\n",
       "  background-color: #c0c9e2;\n",
       "  color: #000000;\n",
       "}\n",
       "#T_e3dca_row13_col3 {\n",
       "  background-color: #056ead;\n",
       "  color: #f1f1f1;\n",
       "}\n",
       "#T_e3dca_row14_col2 {\n",
       "  background-color: #046097;\n",
       "  color: #f1f1f1;\n",
       "}\n",
       "</style>\n",
       "<table id=\"T_e3dca\">\n",
       "  <thead>\n",
       "    <tr>\n",
       "      <th class=\"blank level0\" >&nbsp;</th>\n",
       "      <th id=\"T_e3dca_level0_col0\" class=\"col_heading level0 col0\" >1970</th>\n",
       "      <th id=\"T_e3dca_level0_col1\" class=\"col_heading level0 col1\" >1985</th>\n",
       "      <th id=\"T_e3dca_level0_col2\" class=\"col_heading level0 col2\" >2000</th>\n",
       "      <th id=\"T_e3dca_level0_col3\" class=\"col_heading level0 col3\" >2015</th>\n",
       "    </tr>\n",
       "  </thead>\n",
       "  <tbody>\n",
       "    <tr>\n",
       "      <th id=\"T_e3dca_level0_row0\" class=\"row_heading level0 row0\" >oljeinntektene</th>\n",
       "      <td id=\"T_e3dca_row0_col0\" class=\"data row0 col0\" >215</td>\n",
       "      <td id=\"T_e3dca_row0_col1\" class=\"data row0 col1\" >188</td>\n",
       "      <td id=\"T_e3dca_row0_col2\" class=\"data row0 col2\" >41</td>\n",
       "      <td id=\"T_e3dca_row0_col3\" class=\"data row0 col3\" >66</td>\n",
       "    </tr>\n",
       "    <tr>\n",
       "      <th id=\"T_e3dca_level0_row1\" class=\"row_heading level0 row1\" >oljeinntekter</th>\n",
       "      <td id=\"T_e3dca_row1_col0\" class=\"data row1 col0\" >55</td>\n",
       "      <td id=\"T_e3dca_row1_col1\" class=\"data row1 col1\" >107</td>\n",
       "      <td id=\"T_e3dca_row1_col2\" class=\"data row1 col2\" >105</td>\n",
       "      <td id=\"T_e3dca_row1_col3\" class=\"data row1 col3\" >16</td>\n",
       "    </tr>\n",
       "    <tr>\n",
       "      <th id=\"T_e3dca_level0_row2\" class=\"row_heading level0 row2\" >forurensning</th>\n",
       "      <td id=\"T_e3dca_row2_col0\" class=\"data row2 col0\" >22</td>\n",
       "      <td id=\"T_e3dca_row2_col1\" class=\"data row2 col1\" >20</td>\n",
       "      <td id=\"T_e3dca_row2_col2\" class=\"data row2 col2\" >10</td>\n",
       "      <td id=\"T_e3dca_row2_col3\" class=\"data row2 col3\" >7</td>\n",
       "    </tr>\n",
       "    <tr>\n",
       "      <th id=\"T_e3dca_level0_row3\" class=\"row_heading level0 row3\" >forurensing</th>\n",
       "      <td id=\"T_e3dca_row3_col0\" class=\"data row3 col0\" >8</td>\n",
       "      <td id=\"T_e3dca_row3_col1\" class=\"data row3 col1\" >18</td>\n",
       "      <td id=\"T_e3dca_row3_col2\" class=\"data row3 col2\" >9</td>\n",
       "      <td id=\"T_e3dca_row3_col3\" class=\"data row3 col3\" >5</td>\n",
       "    </tr>\n",
       "    <tr>\n",
       "      <th id=\"T_e3dca_level0_row4\" class=\"row_heading level0 row4\" >miljøvern</th>\n",
       "      <td id=\"T_e3dca_row4_col0\" class=\"data row4 col0\" >5</td>\n",
       "      <td id=\"T_e3dca_row4_col1\" class=\"data row4 col1\" >0</td>\n",
       "      <td id=\"T_e3dca_row4_col2\" class=\"data row4 col2\" >3</td>\n",
       "      <td id=\"T_e3dca_row4_col3\" class=\"data row4 col3\" >0</td>\n",
       "    </tr>\n",
       "    <tr>\n",
       "      <th id=\"T_e3dca_level0_row5\" class=\"row_heading level0 row5\" >klimaet</th>\n",
       "      <td id=\"T_e3dca_row5_col0\" class=\"data row5 col0\" >2</td>\n",
       "      <td id=\"T_e3dca_row5_col1\" class=\"data row5 col1\" >6</td>\n",
       "      <td id=\"T_e3dca_row5_col2\" class=\"data row5 col2\" >23</td>\n",
       "      <td id=\"T_e3dca_row5_col3\" class=\"data row5 col3\" >29</td>\n",
       "    </tr>\n",
       "    <tr>\n",
       "      <th id=\"T_e3dca_level0_row6\" class=\"row_heading level0 row6\" >klimaendringer</th>\n",
       "      <td id=\"T_e3dca_row6_col0\" class=\"data row6 col0\" >0</td>\n",
       "      <td id=\"T_e3dca_row6_col1\" class=\"data row6 col1\" >0</td>\n",
       "      <td id=\"T_e3dca_row6_col2\" class=\"data row6 col2\" >14</td>\n",
       "      <td id=\"T_e3dca_row6_col3\" class=\"data row6 col3\" >51</td>\n",
       "    </tr>\n",
       "    <tr>\n",
       "      <th id=\"T_e3dca_level0_row7\" class=\"row_heading level0 row7\" >klima</th>\n",
       "      <td id=\"T_e3dca_row7_col0\" class=\"data row7 col0\" >0</td>\n",
       "      <td id=\"T_e3dca_row7_col1\" class=\"data row7 col1\" >0</td>\n",
       "      <td id=\"T_e3dca_row7_col2\" class=\"data row7 col2\" >1</td>\n",
       "      <td id=\"T_e3dca_row7_col3\" class=\"data row7 col3\" >4</td>\n",
       "    </tr>\n",
       "    <tr>\n",
       "      <th id=\"T_e3dca_level0_row8\" class=\"row_heading level0 row8\" >klimakrisen</th>\n",
       "      <td id=\"T_e3dca_row8_col0\" class=\"data row8 col0\" >0</td>\n",
       "      <td id=\"T_e3dca_row8_col1\" class=\"data row8 col1\" >0</td>\n",
       "      <td id=\"T_e3dca_row8_col2\" class=\"data row8 col2\" >38</td>\n",
       "      <td id=\"T_e3dca_row8_col3\" class=\"data row8 col3\" >121</td>\n",
       "    </tr>\n",
       "    <tr>\n",
       "      <th id=\"T_e3dca_level0_row9\" class=\"row_heading level0 row9\" >klimagasser</th>\n",
       "      <td id=\"T_e3dca_row9_col0\" class=\"data row9 col0\" >0</td>\n",
       "      <td id=\"T_e3dca_row9_col1\" class=\"data row9 col1\" >0</td>\n",
       "      <td id=\"T_e3dca_row9_col2\" class=\"data row9 col2\" >19</td>\n",
       "      <td id=\"T_e3dca_row9_col3\" class=\"data row9 col3\" >21</td>\n",
       "    </tr>\n",
       "    <tr>\n",
       "      <th id=\"T_e3dca_level0_row10\" class=\"row_heading level0 row10\" >klimagassutslipp</th>\n",
       "      <td id=\"T_e3dca_row10_col0\" class=\"data row10 col0\" >0</td>\n",
       "      <td id=\"T_e3dca_row10_col1\" class=\"data row10 col1\" >0</td>\n",
       "      <td id=\"T_e3dca_row10_col2\" class=\"data row10 col2\" >0</td>\n",
       "      <td id=\"T_e3dca_row10_col3\" class=\"data row10 col3\" >53</td>\n",
       "    </tr>\n",
       "    <tr>\n",
       "      <th id=\"T_e3dca_level0_row11\" class=\"row_heading level0 row11\" >oljerikdom</th>\n",
       "      <td id=\"T_e3dca_row11_col0\" class=\"data row11 col0\" >0</td>\n",
       "      <td id=\"T_e3dca_row11_col1\" class=\"data row11 col1\" >172</td>\n",
       "      <td id=\"T_e3dca_row11_col2\" class=\"data row11 col2\" >169</td>\n",
       "      <td id=\"T_e3dca_row11_col3\" class=\"data row11 col3\" >0</td>\n",
       "    </tr>\n",
       "    <tr>\n",
       "      <th id=\"T_e3dca_level0_row12\" class=\"row_heading level0 row12\" >NBIM</th>\n",
       "      <td id=\"T_e3dca_row12_col0\" class=\"data row12 col0\" >0</td>\n",
       "      <td id=\"T_e3dca_row12_col1\" class=\"data row12 col1\" >0</td>\n",
       "      <td id=\"T_e3dca_row12_col2\" class=\"data row12 col2\" >0</td>\n",
       "      <td id=\"T_e3dca_row12_col3\" class=\"data row12 col3\" >0</td>\n",
       "    </tr>\n",
       "    <tr>\n",
       "      <th id=\"T_e3dca_level0_row13\" class=\"row_heading level0 row13\" >oljefondet</th>\n",
       "      <td id=\"T_e3dca_row13_col0\" class=\"data row13 col0\" >0</td>\n",
       "      <td id=\"T_e3dca_row13_col1\" class=\"data row13 col1\" >52</td>\n",
       "      <td id=\"T_e3dca_row13_col2\" class=\"data row13 col2\" >173</td>\n",
       "      <td id=\"T_e3dca_row13_col3\" class=\"data row13 col3\" >131</td>\n",
       "    </tr>\n",
       "    <tr>\n",
       "      <th id=\"T_e3dca_level0_row14\" class=\"row_heading level0 row14\" >Oljefondet</th>\n",
       "      <td id=\"T_e3dca_row14_col0\" class=\"data row14 col0\" >0</td>\n",
       "      <td id=\"T_e3dca_row14_col1\" class=\"data row14 col1\" >0</td>\n",
       "      <td id=\"T_e3dca_row14_col2\" class=\"data row14 col2\" >87</td>\n",
       "      <td id=\"T_e3dca_row14_col3\" class=\"data row14 col3\" >104</td>\n",
       "    </tr>\n",
       "  </tbody>\n",
       "</table>\n"
      ],
      "text/plain": [
       "<pandas.io.formats.style.Styler at 0x713292fe9e50>"
      ]
     },
     "execution_count": 250,
     "metadata": {},
     "output_type": "execute_result"
    }
   ],
   "source": [
    "(pure_oil_def\n",
    " .show_assoc(sortby=None, \n",
    "             subset=words+w2+['oljeinntekter', 'forurensning'],\n",
    "             head=None)\n",
    " .fillna(0)\n",
    " #.sort_index()\n",
    " .style\n",
    " .format(precision=0)\n",
    " .background_gradient(axis=1)\n",
    " #.transpose()\n",
    " #.plot(kind='bar', figsize=(8,4), rot=0)\n",
    ")"
   ]
  },
  {
   "cell_type": "code",
   "execution_count": null,
   "id": "d6a7ae40-7e22-4446-bf99-b87c47b5ad37",
   "metadata": {},
   "outputs": [],
   "source": []
  }
 ],
 "metadata": {
  "kernelspec": {
   "display_name": "Python 3 (ipykernel)",
   "language": "python",
   "name": "python3"
  },
  "language_info": {
   "codemirror_mode": {
    "name": "ipython",
    "version": 3
   },
   "file_extension": ".py",
   "mimetype": "text/x-python",
   "name": "python",
   "nbconvert_exporter": "python",
   "pygments_lexer": "ipython3",
   "version": "3.11.5"
  }
 },
 "nbformat": 4,
 "nbformat_minor": 5
}
