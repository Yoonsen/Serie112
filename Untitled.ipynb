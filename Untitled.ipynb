{
 "cells": [
  {
   "cell_type": "code",
   "execution_count": 16,
   "id": "09668d5c-f762-4eff-b1a4-bc7646740688",
   "metadata": {},
   "outputs": [],
   "source": [
    "import matplotlib.pyplot as plt\n",
    "plt.rcParams.update({'font.size': 22})\n",
    "import dhlab as dh\n",
    "import dhlab.ngram as ng\n",
    "import dhlab.ngram.nb_ngram as n\n",
    "import pandas as pd"
   ]
  },
  {
   "cell_type": "code",
   "execution_count": 12,
   "id": "2b1f5880-8b96-48bd-896e-783955b1c8f8",
   "metadata": {},
   "outputs": [],
   "source": [
    "w = [x.strip()  for x in \"oljeutvinning, klimakrise, global oppvarming\".split(\",\")]"
   ]
  },
  {
   "cell_type": "code",
   "execution_count": 13,
   "id": "bcb95bd4-a685-4e96-918a-c8e2707539f2",
   "metadata": {},
   "outputs": [
    {
     "data": {
      "text/plain": [
       "['oljeutvinning', 'klimakrise', 'global oppvarming']"
      ]
     },
     "execution_count": 13,
     "metadata": {},
     "output_type": "execute_result"
    }
   ],
   "source": [
    "w"
   ]
  },
  {
   "cell_type": "code",
   "execution_count": 23,
   "id": "cbb89728-f8ce-4a64-a49f-7e2160f7415b",
   "metadata": {},
   "outputs": [],
   "source": [
    "a = ng.Ngram(w, from_year = 1950, to_year = 2020, doctype=\"avis\")"
   ]
  },
  {
   "cell_type": "code",
   "execution_count": 24,
   "id": "3be346ff-d843-4a33-bd23-bda3accef2bb",
   "metadata": {},
   "outputs": [
    {
     "data": {
      "text/html": [
       "<div>\n",
       "<style scoped>\n",
       "    .dataframe tbody tr th:only-of-type {\n",
       "        vertical-align: middle;\n",
       "    }\n",
       "\n",
       "    .dataframe tbody tr th {\n",
       "        vertical-align: top;\n",
       "    }\n",
       "\n",
       "    .dataframe thead th {\n",
       "        text-align: right;\n",
       "    }\n",
       "</style>\n",
       "<table border=\"1\" class=\"dataframe\">\n",
       "  <thead>\n",
       "    <tr style=\"text-align: right;\">\n",
       "      <th></th>\n",
       "    </tr>\n",
       "  </thead>\n",
       "  <tbody>\n",
       "  </tbody>\n",
       "</table>\n",
       "</div>"
      ],
      "text/plain": [
       "Empty DataFrame\n",
       "Columns: []\n",
       "Index: []"
      ]
     },
     "execution_count": 24,
     "metadata": {},
     "output_type": "execute_result"
    }
   ],
   "source": [
    "a.ngram"
   ]
  },
  {
   "cell_type": "code",
   "execution_count": 26,
   "id": "1df23198-170e-4778-96c8-cd9499c0224b",
   "metadata": {},
   "outputs": [
    {
     "data": {
      "text/html": [
       "<div>\n",
       "<style scoped>\n",
       "    .dataframe tbody tr th:only-of-type {\n",
       "        vertical-align: middle;\n",
       "    }\n",
       "\n",
       "    .dataframe tbody tr th {\n",
       "        vertical-align: top;\n",
       "    }\n",
       "\n",
       "    .dataframe thead th {\n",
       "        text-align: right;\n",
       "    }\n",
       "</style>\n",
       "<table border=\"1\" class=\"dataframe\">\n",
       "  <thead>\n",
       "    <tr style=\"text-align: right;\">\n",
       "      <th></th>\n",
       "    </tr>\n",
       "  </thead>\n",
       "  <tbody>\n",
       "  </tbody>\n",
       "</table>\n",
       "</div>"
      ],
      "text/plain": [
       "Empty DataFrame\n",
       "Columns: []\n",
       "Index: []"
      ]
     },
     "execution_count": 26,
     "metadata": {},
     "output_type": "execute_result"
    }
   ],
   "source": [
    "n.nb_ngram(\"oljeutvinning\", corpus=\"avis\")"
   ]
  },
  {
   "cell_type": "code",
   "execution_count": 15,
   "id": "af7b9678-0f88-47df-ba23-62f3bff347ad",
   "metadata": {},
   "outputs": [
    {
     "data": {
      "text/html": [
       "<div>\n",
       "<style scoped>\n",
       "    .dataframe tbody tr th:only-of-type {\n",
       "        vertical-align: middle;\n",
       "    }\n",
       "\n",
       "    .dataframe tbody tr th {\n",
       "        vertical-align: top;\n",
       "    }\n",
       "\n",
       "    .dataframe thead th {\n",
       "        text-align: right;\n",
       "    }\n",
       "</style>\n",
       "<table border=\"1\" class=\"dataframe\">\n",
       "  <thead>\n",
       "    <tr style=\"text-align: right;\">\n",
       "      <th></th>\n",
       "    </tr>\n",
       "  </thead>\n",
       "  <tbody>\n",
       "  </tbody>\n",
       "</table>\n",
       "</div>"
      ],
      "text/plain": [
       "Empty DataFrame\n",
       "Columns: []\n",
       "Index: []"
      ]
     },
     "execution_count": 15,
     "metadata": {},
     "output_type": "execute_result"
    }
   ],
   "source": [
    "a.ngram"
   ]
  },
  {
   "cell_type": "code",
   "execution_count": 9,
   "id": "58937442-ae0b-49fd-bf8c-7492c3089319",
   "metadata": {},
   "outputs": [
    {
     "data": {
      "text/html": [
       "<h1>Init signature</h1>\n",
       "<div class=\"highlight\" style=\"background: #f8f8f8\"><pre style=\"line-height: 125%;\"><span></span>ng<span style=\"color: #666666\">.</span>Ngram(\n",
       "    words<span style=\"color: #666666\">=</span><span style=\"color: #008000; font-weight: bold\">None</span>,\n",
       "    from_year<span style=\"color: #666666\">=</span><span style=\"color: #008000; font-weight: bold\">None</span>,\n",
       "    to_year<span style=\"color: #666666\">=</span><span style=\"color: #008000; font-weight: bold\">None</span>,\n",
       "    doctype<span style=\"color: #666666\">=</span><span style=\"color: #008000; font-weight: bold\">None</span>,\n",
       "    mode<span style=\"color: #666666\">=</span><span style=\"color: #BA2121\">&#39;relative&#39;</span>,\n",
       "    lang<span style=\"color: #666666\">=</span><span style=\"color: #BA2121\">&#39;nob&#39;</span>,\n",
       ") <span style=\"color: #666666\">-&gt;</span> <span style=\"color: #008000; font-weight: bold\">None</span>\n",
       "</pre></div>\n",
       "\n",
       "<h1>Source</h1>\n",
       "<div class=\"highlight\" style=\"background: #f8f8f8\"><pre style=\"line-height: 125%;\"><span></span><span style=\"color: #008000; font-weight: bold\">class</span> <span style=\"color: #0000FF; font-weight: bold\">Ngram</span>:\n",
       "    <span style=\"color: #BA2121; font-style: italic\">&quot;&quot;&quot;Top level class for ngrams&quot;&quot;&quot;</span>\n",
       "\n",
       "    <span style=\"color: #008000; font-weight: bold\">def</span> <span style=\"color: #0000FF\">__init__</span>(<span style=\"color: #008000\">self</span>, words<span style=\"color: #666666\">=</span><span style=\"color: #008000; font-weight: bold\">None</span>, from_year<span style=\"color: #666666\">=</span><span style=\"color: #008000; font-weight: bold\">None</span>, to_year<span style=\"color: #666666\">=</span><span style=\"color: #008000; font-weight: bold\">None</span>, doctype<span style=\"color: #666666\">=</span><span style=\"color: #008000; font-weight: bold\">None</span>, mode<span style=\"color: #666666\">=</span><span style=\"color: #BA2121\">&#39;relative&#39;</span>, lang<span style=\"color: #666666\">=</span><span style=\"color: #BA2121\">&#39;nob&#39;</span>) <span style=\"color: #666666\">-&gt;</span> <span style=\"color: #008000; font-weight: bold\">None</span>:\n",
       "\n",
       "        <span style=\"color: #008000\">self</span><span style=\"color: #666666\">.</span>date <span style=\"color: #666666\">=</span> datetime<span style=\"color: #666666\">.</span>now()\n",
       "        <span style=\"color: #008000; font-weight: bold\">if</span> to_year <span style=\"color: #AA22FF; font-weight: bold\">is</span> <span style=\"color: #008000; font-weight: bold\">None</span>:\n",
       "            to_year <span style=\"color: #666666\">=</span> <span style=\"color: #008000\">self</span><span style=\"color: #666666\">.</span>date<span style=\"color: #666666\">.</span>year\n",
       "        <span style=\"color: #008000; font-weight: bold\">if</span> from_year <span style=\"color: #AA22FF; font-weight: bold\">is</span> <span style=\"color: #008000; font-weight: bold\">None</span>:\n",
       "            from_year <span style=\"color: #666666\">=</span> <span style=\"color: #666666\">1950</span>\n",
       "\n",
       "        <span style=\"color: #008000\">self</span><span style=\"color: #666666\">.</span>from_year <span style=\"color: #666666\">=</span> from_year\n",
       "        <span style=\"color: #008000\">self</span><span style=\"color: #666666\">.</span>to_year <span style=\"color: #666666\">=</span> to_year\n",
       "        <span style=\"color: #008000\">self</span><span style=\"color: #666666\">.</span>words <span style=\"color: #666666\">=</span> words\n",
       "        <span style=\"color: #008000\">self</span><span style=\"color: #666666\">.</span>lang <span style=\"color: #666666\">=</span> lang\n",
       "        <span style=\"color: #008000; font-weight: bold\">if</span> <span style=\"color: #AA22FF; font-weight: bold\">not</span> doctype <span style=\"color: #AA22FF; font-weight: bold\">is</span> <span style=\"color: #008000; font-weight: bold\">None</span>:\n",
       "            <span style=\"color: #008000; font-weight: bold\">if</span> <span style=\"color: #BA2121\">&#39;bok&#39;</span> <span style=\"color: #AA22FF; font-weight: bold\">in</span> doctype:\n",
       "                doctype <span style=\"color: #666666\">=</span> <span style=\"color: #BA2121\">&#39;bok&#39;</span>\n",
       "            <span style=\"color: #008000; font-weight: bold\">elif</span> <span style=\"color: #BA2121\">&#39;avis&#39;</span> <span style=\"color: #AA22FF; font-weight: bold\">in</span> doctype:\n",
       "                doctype <span style=\"color: #666666\">=</span> <span style=\"color: #BA2121\">&#39;avis&#39;</span>\n",
       "            <span style=\"color: #008000; font-weight: bold\">else</span>:\n",
       "                doctype <span style=\"color: #666666\">=</span> <span style=\"color: #BA2121\">&#39;bok&#39;</span>\n",
       "        <span style=\"color: #008000; font-weight: bold\">else</span>:\n",
       "            doctype <span style=\"color: #666666\">=</span> <span style=\"color: #BA2121\">&#39;bok&#39;</span>\n",
       "        ngrm <span style=\"color: #666666\">=</span> nb_ngram(terms<span style=\"color: #666666\">=</span><span style=\"color: #BA2121\">&#39;, &#39;</span><span style=\"color: #666666\">.</span>join(words), corpus<span style=\"color: #666666\">=</span>doctype, years<span style=\"color: #666666\">=</span>(from_year, to_year), smooth <span style=\"color: #666666\">=</span> <span style=\"color: #666666\">1</span>, lang <span style=\"color: #666666\">=</span> lang, mode<span style=\"color: #666666\">=</span>mode)\n",
       "        ngrm<span style=\"color: #666666\">.</span>index <span style=\"color: #666666\">=</span> ngrm<span style=\"color: #666666\">.</span>index<span style=\"color: #666666\">.</span>astype(<span style=\"color: #008000\">str</span>)\n",
       "        <span style=\"color: #008000\">self</span><span style=\"color: #666666\">.</span>ngram <span style=\"color: #666666\">=</span> ngrm\n",
       "\n",
       "    <span style=\"color: #008000; font-weight: bold\">def</span> <span style=\"color: #0000FF\">plot</span>(<span style=\"color: #008000\">self</span>, smooth <span style=\"color: #666666\">=</span> <span style=\"color: #666666\">4</span>, <span style=\"color: #666666\">**</span>kwargs):\n",
       "        <span style=\"color: #BA2121; font-style: italic\">&quot;&quot;&quot;:param smooth: smoothing the curve&quot;&quot;&quot;</span>\n",
       "        grf <span style=\"color: #666666\">=</span> <span style=\"color: #008000\">self</span><span style=\"color: #666666\">.</span>ngram<span style=\"color: #666666\">.</span>rolling(window<span style=\"color: #666666\">=</span>smooth, win_type<span style=\"color: #666666\">=</span><span style=\"color: #BA2121\">&#39;triang&#39;</span>)<span style=\"color: #666666\">.</span>mean()\n",
       "        grf<span style=\"color: #666666\">.</span>plot(<span style=\"color: #666666\">**</span>kwargs)\n",
       "\n",
       "    <span style=\"color: #008000; font-weight: bold\">def</span> <span style=\"color: #0000FF\">compare</span>(<span style=\"color: #008000\">self</span>, another_ngram):\n",
       "        <span style=\"color: #BA2121; font-style: italic\">&quot;&quot;&quot;Divide one ngram by another - measures difference&quot;&quot;&quot;</span>\n",
       "        start_year <span style=\"color: #666666\">=</span> <span style=\"color: #008000\">max</span>(datetime(<span style=\"color: #008000\">self</span><span style=\"color: #666666\">.</span>from_year, <span style=\"color: #666666\">1</span>, <span style=\"color: #666666\">1</span>),\n",
       "                         datetime(another_ngram<span style=\"color: #666666\">.</span>from_year, <span style=\"color: #666666\">1</span>, <span style=\"color: #666666\">1</span>))<span style=\"color: #666666\">.</span>year\n",
       "        end_year <span style=\"color: #666666\">=</span> <span style=\"color: #008000\">min</span>(datetime(<span style=\"color: #008000\">self</span><span style=\"color: #666666\">.</span>to_year, <span style=\"color: #666666\">1</span>, <span style=\"color: #666666\">1</span>), datetime(another_ngram<span style=\"color: #666666\">.</span>to_year, <span style=\"color: #666666\">1</span>, <span style=\"color: #666666\">1</span>))<span style=\"color: #666666\">.</span>year\n",
       "        transposed_ngram <span style=\"color: #666666\">=</span> <span style=\"color: #008000\">self</span><span style=\"color: #666666\">.</span>ngram<span style=\"color: #666666\">.</span>loc[<span style=\"color: #008000\">str</span>(start_year):<span style=\"color: #008000\">str</span>(end_year)]<span style=\"color: #666666\">.</span>transpose()\n",
       "        sum_other_ngram <span style=\"color: #666666\">=</span> another_ngram<span style=\"color: #666666\">.</span>ngram[<span style=\"color: #008000\">str</span>(start_year):<span style=\"color: #008000\">str</span>(end_year)]<span style=\"color: #666666\">.</span>transpose()<span style=\"color: #666666\">.</span>sum()\n",
       "        compare <span style=\"color: #666666\">=</span> (transposed_ngram <span style=\"color: #666666\">/</span> sum_other_ngram)<span style=\"color: #666666\">.</span>transpose()\n",
       "        <span style=\"color: #008000; font-weight: bold\">return</span> compare\n",
       "</pre></div>\n",
       "\n",
       "<h1>File</h1>\n",
       "<pre>~/Git/DHLAB/dhlab/ngram/ngram.py</pre>\n",
       "<h1>Type</h1>\n",
       "<pre>type</pre>\n",
       "<h1>Subclasses</h1>\n",
       "<pre>NgramBook, NgramNews</pre>\n"
      ],
      "text/plain": [
       "\u001b[0;31mInit signature:\u001b[0m\n",
       "\u001b[0mng\u001b[0m\u001b[0;34m.\u001b[0m\u001b[0mNgram\u001b[0m\u001b[0;34m(\u001b[0m\u001b[0;34m\u001b[0m\n",
       "\u001b[0;34m\u001b[0m    \u001b[0mwords\u001b[0m\u001b[0;34m=\u001b[0m\u001b[0;32mNone\u001b[0m\u001b[0;34m,\u001b[0m\u001b[0;34m\u001b[0m\n",
       "\u001b[0;34m\u001b[0m    \u001b[0mfrom_year\u001b[0m\u001b[0;34m=\u001b[0m\u001b[0;32mNone\u001b[0m\u001b[0;34m,\u001b[0m\u001b[0;34m\u001b[0m\n",
       "\u001b[0;34m\u001b[0m    \u001b[0mto_year\u001b[0m\u001b[0;34m=\u001b[0m\u001b[0;32mNone\u001b[0m\u001b[0;34m,\u001b[0m\u001b[0;34m\u001b[0m\n",
       "\u001b[0;34m\u001b[0m    \u001b[0mdoctype\u001b[0m\u001b[0;34m=\u001b[0m\u001b[0;32mNone\u001b[0m\u001b[0;34m,\u001b[0m\u001b[0;34m\u001b[0m\n",
       "\u001b[0;34m\u001b[0m    \u001b[0mmode\u001b[0m\u001b[0;34m=\u001b[0m\u001b[0;34m'relative'\u001b[0m\u001b[0;34m,\u001b[0m\u001b[0;34m\u001b[0m\n",
       "\u001b[0;34m\u001b[0m    \u001b[0mlang\u001b[0m\u001b[0;34m=\u001b[0m\u001b[0;34m'nob'\u001b[0m\u001b[0;34m,\u001b[0m\u001b[0;34m\u001b[0m\n",
       "\u001b[0;34m\u001b[0m\u001b[0;34m)\u001b[0m \u001b[0;34m->\u001b[0m \u001b[0;32mNone\u001b[0m\u001b[0;34m\u001b[0m\u001b[0;34m\u001b[0m\u001b[0m\n",
       "\u001b[0;31mSource:\u001b[0m        \n",
       "\u001b[0;32mclass\u001b[0m \u001b[0mNgram\u001b[0m\u001b[0;34m:\u001b[0m\u001b[0;34m\u001b[0m\n",
       "\u001b[0;34m\u001b[0m    \u001b[0;34m\"\"\"Top level class for ngrams\"\"\"\u001b[0m\u001b[0;34m\u001b[0m\n",
       "\u001b[0;34m\u001b[0m\u001b[0;34m\u001b[0m\n",
       "\u001b[0;34m\u001b[0m    \u001b[0;32mdef\u001b[0m \u001b[0m__init__\u001b[0m\u001b[0;34m(\u001b[0m\u001b[0mself\u001b[0m\u001b[0;34m,\u001b[0m \u001b[0mwords\u001b[0m\u001b[0;34m=\u001b[0m\u001b[0;32mNone\u001b[0m\u001b[0;34m,\u001b[0m \u001b[0mfrom_year\u001b[0m\u001b[0;34m=\u001b[0m\u001b[0;32mNone\u001b[0m\u001b[0;34m,\u001b[0m \u001b[0mto_year\u001b[0m\u001b[0;34m=\u001b[0m\u001b[0;32mNone\u001b[0m\u001b[0;34m,\u001b[0m \u001b[0mdoctype\u001b[0m\u001b[0;34m=\u001b[0m\u001b[0;32mNone\u001b[0m\u001b[0;34m,\u001b[0m \u001b[0mmode\u001b[0m\u001b[0;34m=\u001b[0m\u001b[0;34m'relative'\u001b[0m\u001b[0;34m,\u001b[0m \u001b[0mlang\u001b[0m\u001b[0;34m=\u001b[0m\u001b[0;34m'nob'\u001b[0m\u001b[0;34m)\u001b[0m \u001b[0;34m->\u001b[0m \u001b[0;32mNone\u001b[0m\u001b[0;34m:\u001b[0m\u001b[0;34m\u001b[0m\n",
       "\u001b[0;34m\u001b[0m\u001b[0;34m\u001b[0m\n",
       "\u001b[0;34m\u001b[0m        \u001b[0mself\u001b[0m\u001b[0;34m.\u001b[0m\u001b[0mdate\u001b[0m \u001b[0;34m=\u001b[0m \u001b[0mdatetime\u001b[0m\u001b[0;34m.\u001b[0m\u001b[0mnow\u001b[0m\u001b[0;34m(\u001b[0m\u001b[0;34m)\u001b[0m\u001b[0;34m\u001b[0m\n",
       "\u001b[0;34m\u001b[0m        \u001b[0;32mif\u001b[0m \u001b[0mto_year\u001b[0m \u001b[0;32mis\u001b[0m \u001b[0;32mNone\u001b[0m\u001b[0;34m:\u001b[0m\u001b[0;34m\u001b[0m\n",
       "\u001b[0;34m\u001b[0m            \u001b[0mto_year\u001b[0m \u001b[0;34m=\u001b[0m \u001b[0mself\u001b[0m\u001b[0;34m.\u001b[0m\u001b[0mdate\u001b[0m\u001b[0;34m.\u001b[0m\u001b[0myear\u001b[0m\u001b[0;34m\u001b[0m\n",
       "\u001b[0;34m\u001b[0m        \u001b[0;32mif\u001b[0m \u001b[0mfrom_year\u001b[0m \u001b[0;32mis\u001b[0m \u001b[0;32mNone\u001b[0m\u001b[0;34m:\u001b[0m\u001b[0;34m\u001b[0m\n",
       "\u001b[0;34m\u001b[0m            \u001b[0mfrom_year\u001b[0m \u001b[0;34m=\u001b[0m \u001b[0;36m1950\u001b[0m\u001b[0;34m\u001b[0m\n",
       "\u001b[0;34m\u001b[0m\u001b[0;34m\u001b[0m\n",
       "\u001b[0;34m\u001b[0m        \u001b[0mself\u001b[0m\u001b[0;34m.\u001b[0m\u001b[0mfrom_year\u001b[0m \u001b[0;34m=\u001b[0m \u001b[0mfrom_year\u001b[0m\u001b[0;34m\u001b[0m\n",
       "\u001b[0;34m\u001b[0m        \u001b[0mself\u001b[0m\u001b[0;34m.\u001b[0m\u001b[0mto_year\u001b[0m \u001b[0;34m=\u001b[0m \u001b[0mto_year\u001b[0m\u001b[0;34m\u001b[0m\n",
       "\u001b[0;34m\u001b[0m        \u001b[0mself\u001b[0m\u001b[0;34m.\u001b[0m\u001b[0mwords\u001b[0m \u001b[0;34m=\u001b[0m \u001b[0mwords\u001b[0m\u001b[0;34m\u001b[0m\n",
       "\u001b[0;34m\u001b[0m        \u001b[0mself\u001b[0m\u001b[0;34m.\u001b[0m\u001b[0mlang\u001b[0m \u001b[0;34m=\u001b[0m \u001b[0mlang\u001b[0m\u001b[0;34m\u001b[0m\n",
       "\u001b[0;34m\u001b[0m        \u001b[0;32mif\u001b[0m \u001b[0;32mnot\u001b[0m \u001b[0mdoctype\u001b[0m \u001b[0;32mis\u001b[0m \u001b[0;32mNone\u001b[0m\u001b[0;34m:\u001b[0m\u001b[0;34m\u001b[0m\n",
       "\u001b[0;34m\u001b[0m            \u001b[0;32mif\u001b[0m \u001b[0;34m'bok'\u001b[0m \u001b[0;32min\u001b[0m \u001b[0mdoctype\u001b[0m\u001b[0;34m:\u001b[0m\u001b[0;34m\u001b[0m\n",
       "\u001b[0;34m\u001b[0m                \u001b[0mdoctype\u001b[0m \u001b[0;34m=\u001b[0m \u001b[0;34m'bok'\u001b[0m\u001b[0;34m\u001b[0m\n",
       "\u001b[0;34m\u001b[0m            \u001b[0;32melif\u001b[0m \u001b[0;34m'avis'\u001b[0m \u001b[0;32min\u001b[0m \u001b[0mdoctype\u001b[0m\u001b[0;34m:\u001b[0m\u001b[0;34m\u001b[0m\n",
       "\u001b[0;34m\u001b[0m                \u001b[0mdoctype\u001b[0m \u001b[0;34m=\u001b[0m \u001b[0;34m'avis'\u001b[0m\u001b[0;34m\u001b[0m\n",
       "\u001b[0;34m\u001b[0m            \u001b[0;32melse\u001b[0m\u001b[0;34m:\u001b[0m\u001b[0;34m\u001b[0m\n",
       "\u001b[0;34m\u001b[0m                \u001b[0mdoctype\u001b[0m \u001b[0;34m=\u001b[0m \u001b[0;34m'bok'\u001b[0m\u001b[0;34m\u001b[0m\n",
       "\u001b[0;34m\u001b[0m        \u001b[0;32melse\u001b[0m\u001b[0;34m:\u001b[0m\u001b[0;34m\u001b[0m\n",
       "\u001b[0;34m\u001b[0m            \u001b[0mdoctype\u001b[0m \u001b[0;34m=\u001b[0m \u001b[0;34m'bok'\u001b[0m\u001b[0;34m\u001b[0m\n",
       "\u001b[0;34m\u001b[0m        \u001b[0mngrm\u001b[0m \u001b[0;34m=\u001b[0m \u001b[0mnb_ngram\u001b[0m\u001b[0;34m(\u001b[0m\u001b[0mterms\u001b[0m\u001b[0;34m=\u001b[0m\u001b[0;34m', '\u001b[0m\u001b[0;34m.\u001b[0m\u001b[0mjoin\u001b[0m\u001b[0;34m(\u001b[0m\u001b[0mwords\u001b[0m\u001b[0;34m)\u001b[0m\u001b[0;34m,\u001b[0m \u001b[0mcorpus\u001b[0m\u001b[0;34m=\u001b[0m\u001b[0mdoctype\u001b[0m\u001b[0;34m,\u001b[0m \u001b[0myears\u001b[0m\u001b[0;34m=\u001b[0m\u001b[0;34m(\u001b[0m\u001b[0mfrom_year\u001b[0m\u001b[0;34m,\u001b[0m \u001b[0mto_year\u001b[0m\u001b[0;34m)\u001b[0m\u001b[0;34m,\u001b[0m \u001b[0msmooth\u001b[0m \u001b[0;34m=\u001b[0m \u001b[0;36m1\u001b[0m\u001b[0;34m,\u001b[0m \u001b[0mlang\u001b[0m \u001b[0;34m=\u001b[0m \u001b[0mlang\u001b[0m\u001b[0;34m,\u001b[0m \u001b[0mmode\u001b[0m\u001b[0;34m=\u001b[0m\u001b[0mmode\u001b[0m\u001b[0;34m)\u001b[0m\u001b[0;34m\u001b[0m\n",
       "\u001b[0;34m\u001b[0m        \u001b[0mngrm\u001b[0m\u001b[0;34m.\u001b[0m\u001b[0mindex\u001b[0m \u001b[0;34m=\u001b[0m \u001b[0mngrm\u001b[0m\u001b[0;34m.\u001b[0m\u001b[0mindex\u001b[0m\u001b[0;34m.\u001b[0m\u001b[0mastype\u001b[0m\u001b[0;34m(\u001b[0m\u001b[0mstr\u001b[0m\u001b[0;34m)\u001b[0m\u001b[0;34m\u001b[0m\n",
       "\u001b[0;34m\u001b[0m        \u001b[0mself\u001b[0m\u001b[0;34m.\u001b[0m\u001b[0mngram\u001b[0m \u001b[0;34m=\u001b[0m \u001b[0mngrm\u001b[0m\u001b[0;34m\u001b[0m\n",
       "\u001b[0;34m\u001b[0m\u001b[0;34m\u001b[0m\n",
       "\u001b[0;34m\u001b[0m    \u001b[0;32mdef\u001b[0m \u001b[0mplot\u001b[0m\u001b[0;34m(\u001b[0m\u001b[0mself\u001b[0m\u001b[0;34m,\u001b[0m \u001b[0msmooth\u001b[0m \u001b[0;34m=\u001b[0m \u001b[0;36m4\u001b[0m\u001b[0;34m,\u001b[0m \u001b[0;34m**\u001b[0m\u001b[0mkwargs\u001b[0m\u001b[0;34m)\u001b[0m\u001b[0;34m:\u001b[0m\u001b[0;34m\u001b[0m\n",
       "\u001b[0;34m\u001b[0m        \u001b[0;34m\"\"\":param smooth: smoothing the curve\"\"\"\u001b[0m\u001b[0;34m\u001b[0m\n",
       "\u001b[0;34m\u001b[0m        \u001b[0mgrf\u001b[0m \u001b[0;34m=\u001b[0m \u001b[0mself\u001b[0m\u001b[0;34m.\u001b[0m\u001b[0mngram\u001b[0m\u001b[0;34m.\u001b[0m\u001b[0mrolling\u001b[0m\u001b[0;34m(\u001b[0m\u001b[0mwindow\u001b[0m\u001b[0;34m=\u001b[0m\u001b[0msmooth\u001b[0m\u001b[0;34m,\u001b[0m \u001b[0mwin_type\u001b[0m\u001b[0;34m=\u001b[0m\u001b[0;34m'triang'\u001b[0m\u001b[0;34m)\u001b[0m\u001b[0;34m.\u001b[0m\u001b[0mmean\u001b[0m\u001b[0;34m(\u001b[0m\u001b[0;34m)\u001b[0m\u001b[0;34m\u001b[0m\n",
       "\u001b[0;34m\u001b[0m        \u001b[0mgrf\u001b[0m\u001b[0;34m.\u001b[0m\u001b[0mplot\u001b[0m\u001b[0;34m(\u001b[0m\u001b[0;34m**\u001b[0m\u001b[0mkwargs\u001b[0m\u001b[0;34m)\u001b[0m\u001b[0;34m\u001b[0m\n",
       "\u001b[0;34m\u001b[0m\u001b[0;34m\u001b[0m\n",
       "\u001b[0;34m\u001b[0m    \u001b[0;32mdef\u001b[0m \u001b[0mcompare\u001b[0m\u001b[0;34m(\u001b[0m\u001b[0mself\u001b[0m\u001b[0;34m,\u001b[0m \u001b[0manother_ngram\u001b[0m\u001b[0;34m)\u001b[0m\u001b[0;34m:\u001b[0m\u001b[0;34m\u001b[0m\n",
       "\u001b[0;34m\u001b[0m        \u001b[0;34m\"\"\"Divide one ngram by another - measures difference\"\"\"\u001b[0m\u001b[0;34m\u001b[0m\n",
       "\u001b[0;34m\u001b[0m        \u001b[0mstart_year\u001b[0m \u001b[0;34m=\u001b[0m \u001b[0mmax\u001b[0m\u001b[0;34m(\u001b[0m\u001b[0mdatetime\u001b[0m\u001b[0;34m(\u001b[0m\u001b[0mself\u001b[0m\u001b[0;34m.\u001b[0m\u001b[0mfrom_year\u001b[0m\u001b[0;34m,\u001b[0m \u001b[0;36m1\u001b[0m\u001b[0;34m,\u001b[0m \u001b[0;36m1\u001b[0m\u001b[0;34m)\u001b[0m\u001b[0;34m,\u001b[0m\u001b[0;34m\u001b[0m\n",
       "\u001b[0;34m\u001b[0m                         \u001b[0mdatetime\u001b[0m\u001b[0;34m(\u001b[0m\u001b[0manother_ngram\u001b[0m\u001b[0;34m.\u001b[0m\u001b[0mfrom_year\u001b[0m\u001b[0;34m,\u001b[0m \u001b[0;36m1\u001b[0m\u001b[0;34m,\u001b[0m \u001b[0;36m1\u001b[0m\u001b[0;34m)\u001b[0m\u001b[0;34m)\u001b[0m\u001b[0;34m.\u001b[0m\u001b[0myear\u001b[0m\u001b[0;34m\u001b[0m\n",
       "\u001b[0;34m\u001b[0m        \u001b[0mend_year\u001b[0m \u001b[0;34m=\u001b[0m \u001b[0mmin\u001b[0m\u001b[0;34m(\u001b[0m\u001b[0mdatetime\u001b[0m\u001b[0;34m(\u001b[0m\u001b[0mself\u001b[0m\u001b[0;34m.\u001b[0m\u001b[0mto_year\u001b[0m\u001b[0;34m,\u001b[0m \u001b[0;36m1\u001b[0m\u001b[0;34m,\u001b[0m \u001b[0;36m1\u001b[0m\u001b[0;34m)\u001b[0m\u001b[0;34m,\u001b[0m \u001b[0mdatetime\u001b[0m\u001b[0;34m(\u001b[0m\u001b[0manother_ngram\u001b[0m\u001b[0;34m.\u001b[0m\u001b[0mto_year\u001b[0m\u001b[0;34m,\u001b[0m \u001b[0;36m1\u001b[0m\u001b[0;34m,\u001b[0m \u001b[0;36m1\u001b[0m\u001b[0;34m)\u001b[0m\u001b[0;34m)\u001b[0m\u001b[0;34m.\u001b[0m\u001b[0myear\u001b[0m\u001b[0;34m\u001b[0m\n",
       "\u001b[0;34m\u001b[0m        \u001b[0mtransposed_ngram\u001b[0m \u001b[0;34m=\u001b[0m \u001b[0mself\u001b[0m\u001b[0;34m.\u001b[0m\u001b[0mngram\u001b[0m\u001b[0;34m.\u001b[0m\u001b[0mloc\u001b[0m\u001b[0;34m[\u001b[0m\u001b[0mstr\u001b[0m\u001b[0;34m(\u001b[0m\u001b[0mstart_year\u001b[0m\u001b[0;34m)\u001b[0m\u001b[0;34m:\u001b[0m\u001b[0mstr\u001b[0m\u001b[0;34m(\u001b[0m\u001b[0mend_year\u001b[0m\u001b[0;34m)\u001b[0m\u001b[0;34m]\u001b[0m\u001b[0;34m.\u001b[0m\u001b[0mtranspose\u001b[0m\u001b[0;34m(\u001b[0m\u001b[0;34m)\u001b[0m\u001b[0;34m\u001b[0m\n",
       "\u001b[0;34m\u001b[0m        \u001b[0msum_other_ngram\u001b[0m \u001b[0;34m=\u001b[0m \u001b[0manother_ngram\u001b[0m\u001b[0;34m.\u001b[0m\u001b[0mngram\u001b[0m\u001b[0;34m[\u001b[0m\u001b[0mstr\u001b[0m\u001b[0;34m(\u001b[0m\u001b[0mstart_year\u001b[0m\u001b[0;34m)\u001b[0m\u001b[0;34m:\u001b[0m\u001b[0mstr\u001b[0m\u001b[0;34m(\u001b[0m\u001b[0mend_year\u001b[0m\u001b[0;34m)\u001b[0m\u001b[0;34m]\u001b[0m\u001b[0;34m.\u001b[0m\u001b[0mtranspose\u001b[0m\u001b[0;34m(\u001b[0m\u001b[0;34m)\u001b[0m\u001b[0;34m.\u001b[0m\u001b[0msum\u001b[0m\u001b[0;34m(\u001b[0m\u001b[0;34m)\u001b[0m\u001b[0;34m\u001b[0m\n",
       "\u001b[0;34m\u001b[0m        \u001b[0mcompare\u001b[0m \u001b[0;34m=\u001b[0m \u001b[0;34m(\u001b[0m\u001b[0mtransposed_ngram\u001b[0m \u001b[0;34m/\u001b[0m \u001b[0msum_other_ngram\u001b[0m\u001b[0;34m)\u001b[0m\u001b[0;34m.\u001b[0m\u001b[0mtranspose\u001b[0m\u001b[0;34m(\u001b[0m\u001b[0;34m)\u001b[0m\u001b[0;34m\u001b[0m\n",
       "\u001b[0;34m\u001b[0m        \u001b[0;32mreturn\u001b[0m \u001b[0mcompare\u001b[0m\u001b[0;34m\u001b[0m\u001b[0;34m\u001b[0m\u001b[0m\n",
       "\u001b[0;31mFile:\u001b[0m           ~/Git/DHLAB/dhlab/ngram/ngram.py\n",
       "\u001b[0;31mType:\u001b[0m           type\n",
       "\u001b[0;31mSubclasses:\u001b[0m     NgramBook, NgramNews\n"
      ]
     },
     "metadata": {},
     "output_type": "display_data"
    }
   ],
   "source": [
    "ng."
   ]
  }
 ],
 "metadata": {
  "kernelspec": {
   "display_name": "Python 3 (ipykernel)",
   "language": "python",
   "name": "python3"
  },
  "language_info": {
   "codemirror_mode": {
    "name": "ipython",
    "version": 3
   },
   "file_extension": ".py",
   "mimetype": "text/x-python",
   "name": "python",
   "nbconvert_exporter": "python",
   "pygments_lexer": "ipython3",
   "version": "3.9.13"
  }
 },
 "nbformat": 4,
 "nbformat_minor": 5
}
